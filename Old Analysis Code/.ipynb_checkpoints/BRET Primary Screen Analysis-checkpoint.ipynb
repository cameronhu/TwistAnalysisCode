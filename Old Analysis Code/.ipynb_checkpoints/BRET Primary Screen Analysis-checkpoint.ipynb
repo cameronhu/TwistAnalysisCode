{
 "cells": [
  {
   "cell_type": "code",
   "execution_count": null,
   "id": "f00ff2da",
   "metadata": {},
   "outputs": [],
   "source": [
    "import pandas as pd, ipywidgets as widgets, numpy as np, matplotlib.pyplot as plt, io\n",
    "from adjustText import adjust_text\n",
    "raw_uploader, eln_uploader = widgets.FileUpload(multiple = False), widgets.FileUpload(multiple = False)\n",
    "display(\"Upload ELN w/ BRET Data and Antibodies Sheet (xlsx)\")\n",
    "display(eln_uploader)"
   ]
  },
  {
   "cell_type": "code",
   "execution_count": null,
   "id": "51b74700",
   "metadata": {},
   "outputs": [],
   "source": [
    "elnname = list(eln_uploader.value.keys())[0]\n",
    "eln = pd.read_excel(io.BytesIO(eln_uploader.value[elnname]['content']))\n",
    "bret_agonist_data = pd.read_excel(io.BytesIO(eln_uploader.value[elnname]['content']), sheet_name = \"BRET Agonist\")\n",
    "bret_antagonist_data = pd.read_excel(io.BytesIO(eln_uploader.value[elnname]['content']), sheet_name = \"BRET Antagonist\")\n",
    "ab_sheet = pd.read_excel(io.BytesIO(eln_uploader.value[elnname]['content']), sheet_name = \"Antibody Plate Map\")\n",
    "bret_agonist_data"
   ]
  },
  {
   "cell_type": "code",
   "execution_count": null,
   "id": "62917ec3",
   "metadata": {},
   "outputs": [],
   "source": [
    "#Concatenate all agonists and antagonist columns into a their respective single Series\n",
    "bret_agonist_column = pd.Series()\n",
    "for column in bret_agonist_data.columns:\n",
    "    colToAdd = bret_agonist_data[column]\n",
    "    bret_agonist_column = pd.concat([bret_agonist_column, colToAdd], axis = 0, ignore_index = True)\n",
    "\n",
    "#Same for antagonists\n",
    "bret_antagonist_column = pd.Series()\n",
    "for column in bret_agonist_data.columns:\n",
    "    colToAdd = bret_antagonist_data[column]\n",
    "    bret_antagonist_column = pd.concat([bret_antagonist_column, colToAdd], axis = 0, ignore_index = True)"
   ]
  },
  {
   "cell_type": "code",
   "execution_count": null,
   "id": "4531a705",
   "metadata": {},
   "outputs": [],
   "source": [
    "#Separate n=1 and n=2 duplicates, average them and reset the indeces: for Agonist conditions\n",
    "firsts = bret_agonist_column.iloc[::2]\n",
    "seconds = bret_agonist_column.iloc[1::2]\n",
    "first_reset = firsts.reset_index(drop = True)\n",
    "second_reset = seconds.reset_index(drop = True)\n",
    "averageAgonists = first_reset + second_reset\n",
    "averageAgonists = averageAgonists / 2"
   ]
  },
  {
   "cell_type": "code",
   "execution_count": null,
   "id": "9a66afbd",
   "metadata": {},
   "outputs": [],
   "source": [
    "#Do the same with the Antagonist condition\n",
    "firsts = bret_antagonist_column.iloc[::2]\n",
    "seconds = bret_antagonist_column.iloc[1::2]\n",
    "first_reset = firsts.reset_index(drop = True)\n",
    "second_reset = seconds.reset_index(drop = True)\n",
    "averageAntagonists = first_reset + second_reset\n",
    "averageAntagonists = averageAntagonists / 2"
   ]
  },
  {
   "cell_type": "code",
   "execution_count": null,
   "id": "5ca1fb52",
   "metadata": {},
   "outputs": [],
   "source": [
    "#Create new DF for concatenating the Agonist, Antagonist signals, and the Antibody Plate Map\n",
    "OutputSheet = pd.concat([averageAgonists, averageAntagonists, ab_sheet], axis = 1)\n",
    "OutputSheet.index += 1\n",
    "OutputSheet.rename(inplace = True, columns = {0: \"Agonist Mode\", 1: \"Antagonist Mode\"})\n",
    "OutputSheetCleaned = OutputSheet[[\"Agonist Mode\", \"Antagonist Mode\", \"DNA\", \"Protein Concentration (ug/uL)\"]]\n",
    "OutputSheetCleaned.to_excel(\"BRET_Output.xlsx\")\n",
    "AgonistSort = OutputSheetCleaned.sort_values(by=\"Agonist Mode\", ascending = False)"
   ]
  },
  {
   "cell_type": "code",
   "execution_count": null,
   "id": "5806ec23",
   "metadata": {},
   "outputs": [],
   "source": [
    "Top10Agonists = OutputSheetCleaned.nlargest(10, \"Agonist Mode\")\n",
    "Top10Antagonists = OutputSheetCleaned.nlargest(10, \"Antagonist Mode\")\n",
    "fig, ax = plt.subplots()\n",
    "ax.scatter(x = OutputSheetCleaned[\"Protein Concentration (ug/uL)\"], y=OutputSheetCleaned[\"Agonist Mode\"], alpha = .2, color = \"blue\")\n",
    "ax.scatter(x = OutputSheetCleaned[\"Protein Concentration (ug/uL)\"], y=OutputSheetCleaned[\"Antagonist Mode\"], alpha = .2, color = \"red\")\n",
    "ax.scatter(x = Top10Agonists[\"Protein Concentration (ug/uL)\"], y = Top10Agonists[\"Agonist Mode\"], alpha = .8, color = \"blue\", label = \"Top Agonist Hits\")\n",
    "ax.scatter(x = Top10Antagonists[\"Protein Concentration (ug/uL)\"], y = Top10Antagonists[\"Antagonist Mode\"], alpha = .8, color = \"red\", label = \"Top Antagonist Hits\")\n",
    "ax.set_title(\"BRET Primary Screen\")\n",
    "ax.set_xlabel(\"Concentration (mg/ml)\")\n",
    "ax.set_ylabel(\"cAMP Levels\")\n",
    "ax.legend()\n"
   ]
  },
  {
   "cell_type": "code",
   "execution_count": null,
   "id": "3c8625fb",
   "metadata": {},
   "outputs": [],
   "source": []
  }
 ],
 "metadata": {
  "kernelspec": {
   "display_name": "Python 3 (ipykernel)",
   "language": "python",
   "name": "python3"
  },
  "language_info": {
   "codemirror_mode": {
    "name": "ipython",
    "version": 3
   },
   "file_extension": ".py",
   "mimetype": "text/x-python",
   "name": "python",
   "nbconvert_exporter": "python",
   "pygments_lexer": "ipython3",
   "version": "3.10.5"
  }
 },
 "nbformat": 4,
 "nbformat_minor": 5
}
