{
 "cells": [
  {
   "cell_type": "code",
   "execution_count": null,
   "id": "f00ff2da",
   "metadata": {},
   "outputs": [],
   "source": [
    "import pandas as pd, ipywidgets as widgets, numpy as np, matplotlib.pyplot as plt, io\n",
    "from adjustText import adjust_text\n",
    "raw_uploader, eln_uploader = widgets.FileUpload(multiple = False), widgets.FileUpload(multiple = False)\n",
    "display(\"Upload iQue3 Data (csv)\")\n",
    "display(raw_uploader)\n",
    "display(\"Upload ELN w/ Antibodies Sheet (xlsx)\")\n",
    "display(eln_uploader)"
   ]
  },
  {
   "cell_type": "code",
   "execution_count": null,
   "id": "51b74700",
   "metadata": {},
   "outputs": [],
   "source": [
    "iquename, elnname = list(raw_uploader.value.keys())[0], list(eln_uploader.value.keys())[0]\n",
    "iquename\n",
    "iquedata = pd.read_csv(io.BytesIO(raw_uploader.value[iquename]['content']))\n",
    "eln = pd.read_excel(io.BytesIO(eln_uploader.value[elnname]['content']))\n",
    "ab_sheet = pd.read_excel(io.BytesIO(eln_uploader.value[elnname]['content']), sheet_name = \"Antibody Plate Map\")\n",
    "iquedata"
   ]
  },
  {
   "cell_type": "code",
   "execution_count": null,
   "id": "99427c3f",
   "metadata": {},
   "outputs": [],
   "source": [
    "data_cleaned = iquedata[[\"Plate\", \"Well ID\", \"Well Type\", \"Median RL1-H of singlets\"]]\n",
    "data_cleaned"
   ]
  },
  {
   "cell_type": "code",
   "execution_count": null,
   "id": "4531a705",
   "metadata": {},
   "outputs": [],
   "source": [
    "#Create a series with only the first population from plate, and another series with only those MFIs\n",
    "#Separate n=1 and n=2 duplicates, average them and reset the indeces\n",
    "one = data_cleaned[data_cleaned[\"Well Type\"] == \"One\"]\n",
    "one_MFI = one[\"Median RL1-H of singlets\"]\n",
    "firsts = one_MFI.iloc[::2]\n",
    "seconds = one_MFI.iloc[1::2]\n",
    "firsts.reset_index(inplace = True, drop = True)\n",
    "seconds.reset_index(inplace = True, drop = True)\n",
    "averageOne = firsts + seconds\n",
    "averageOne = averageOne / 2"
   ]
  },
  {
   "cell_type": "code",
   "execution_count": null,
   "id": "8a55ebf5",
   "metadata": {},
   "outputs": [],
   "source": [
    "#Do the same with the second population\n",
    "#Separate n=1 and n=2 duplicates, average them and reset the indeces\n",
    "two = data_cleaned[data_cleaned[\"Well Type\"] == \"Two\"]\n",
    "two_MFI = two[\"Median RL1-H of singlets\"]\n",
    "firsts = two_MFI.iloc[::2]\n",
    "seconds = two_MFI.iloc[1::2]\n",
    "firsts.reset_index(inplace = True, drop = True)\n",
    "seconds.reset_index(inplace = True, drop = True)\n",
    "averageTwo = firsts + seconds\n",
    "averageTwo = averageTwo / 2\n",
    "\n",
    "#averageTwo"
   ]
  },
  {
   "cell_type": "code",
   "execution_count": null,
   "id": "3bc0c891",
   "metadata": {},
   "outputs": [],
   "source": [
    "#Do the same with the third population\n",
    "#Separate n=1 and n=2 duplicates, average them and reset the indeces\n",
    "three = data_cleaned[data_cleaned[\"Well Type\"] == \"Three\"]\n",
    "three_MFI = three[\"Median RL1-H of singlets\"]\n",
    "firsts = three_MFI.iloc[::2]\n",
    "seconds = three_MFI.iloc[1::2]\n",
    "firsts.reset_index(inplace = True, drop = True)\n",
    "seconds.reset_index(inplace = True, drop = True)\n",
    "averageThree = firsts + seconds\n",
    "averageThree = averageThree / 2\n",
    "\n",
    "#averageThree"
   ]
  },
  {
   "cell_type": "code",
   "execution_count": null,
   "id": "9a66afbd",
   "metadata": {},
   "outputs": [],
   "source": [
    "#Do the same with the Negative population (untransfected controls)\n",
    "only_negative = data_cleaned[data_cleaned[\"Well Type\"] == \"Negative\"]\n",
    "negatives_MFI = only_negative[\"Median RL1-H of singlets\"]\n",
    "negatives_MFI.reset_index(inplace = True, drop = True)\n",
    "firsts = negatives_MFI.iloc[::2]\n",
    "seconds = negatives_MFI.iloc[1::2]\n",
    "firsts.reset_index(inplace = True, drop = True)\n",
    "seconds.reset_index(inplace = True, drop = True)\n",
    "averageNegative = firsts + seconds\n",
    "averageNegative = averageNegative / 2\n",
    "\n",
    "#averageNegative"
   ]
  },
  {
   "cell_type": "code",
   "execution_count": null,
   "id": "5ca1fb52",
   "metadata": {
    "scrolled": true
   },
   "outputs": [],
   "source": [
    "#Create new DF for MFI ratios for pop one\n",
    "one_MFIratios = averageOne / averageNegative\n",
    "one_MFIratio_sheet = one.copy()\n",
    "one_MFIratio_sheet = one_MFIratio_sheet[::2]\n",
    "one_MFIratio_sheet.reset_index(inplace = True, drop = True)\n",
    "one_MFIratio_sheet[\"One MFI Ratio\"] = one_MFIratios\n",
    "\n",
    "#Create new DF for pop two MFI ratios \n",
    "two_MFIratios = averageTwo / averageNegative\n",
    "two_MFIratio_sheet = two.copy()\n",
    "two_MFIratio_sheet = two_MFIratio_sheet[::2]\n",
    "two_MFIratio_sheet.reset_index(inplace = True, drop = True)\n",
    "two_MFIratio_sheet[\"Two MFI Ratio\"] = two_MFIratios\n",
    "\n",
    "#Create new DF for pop three MFI ratios \n",
    "three_MFIratios = averageThree / averageNegative\n",
    "three_MFIratio_sheet = three.copy()\n",
    "three_MFIratio_sheet = three_MFIratio_sheet[::2]\n",
    "three_MFIratio_sheet.reset_index(inplace = True, drop = True)\n",
    "three_MFIratio_sheet[\"Three MFI Ratio\"] = three_MFIratios\n",
    "\n",
    "MFI_Ratio_Antibody = pd.concat([one_MFIratio_sheet, two_MFIratio_sheet, three_MFIratio_sheet, ab_sheet], axis = 1)\n",
    "MFI_Ratio_Antibody_cleaned = MFI_Ratio_Antibody[[\"Plate\", \"Well ID\", \"One MFI Ratio\", \"Two MFI Ratio\", \"Three MFI Ratio\", \"DNA\", \"Protein Concentration (ug/uL)\"]]\n",
    "MFI_Ratio_Antibody_cleaned.to_excel(\"MFI Ratio Antibody Match.xlsx\")\n",
    "SortByOneMFI = MFI_Ratio_Antibody_cleaned.sort_values(by=\"One MFI Ratio\", ascending = False)\n",
    "MFI_Ratio_Antibody_cleaned"
   ]
  },
  {
   "cell_type": "code",
   "execution_count": null,
   "id": "b1cd4211",
   "metadata": {},
   "outputs": [],
   "source": []
  },
  {
   "cell_type": "code",
   "execution_count": null,
   "id": "5806ec23",
   "metadata": {},
   "outputs": [],
   "source": [
    "#Sort DF by highest MFI ratio (top hits)\n",
    "SortByFLMFI = MFIRatio_Antibody_cleaned.sort_values(by=\"FL MFI Ratio\", ascending = False)\n",
    "Top10 = MFIRatio_Antibody_cleaned.nlargest(10, \"FL MFI Ratio\")\n",
    "#Top10 = Top10.append(MFIRatio_Antibody_cleaned.loc[MFIRatio_Antibody_cleaned[\"DNA\"] == \"SC-175-017\"])\n",
    "fig, ax = plt.subplots()\n",
    "ax.scatter(x = SortByFLMFI[\"Protein Concentration (ug/uL)\"], y=SortByFLMFI[\"FL MFI Ratio\"], alpha = .2, color = \"blue\")\n",
    "ax.scatter(x = Top10[\"Protein Concentration (ug/uL)\"], y = Top10[\"FL MFI Ratio\"], alpha = .8, color = \"blue\", label = \"Top Hits\")\n",
    "ax.set_title(\"CD40 Primary Screen\")\n",
    "ax.set_xlabel(\"Concentration (mg/ml)\")\n",
    "ax.set_ylabel(\"FL MFI Ratio \\n Transfected/Untransfected\")\n",
    "ax.legend()\n",
    "\n",
    "# texts = []\n",
    "# for row in Top10.itertuples(index = False):\n",
    "#     ab, conc, MFI = row[4], row[5], row[3]\n",
    "#     ax.annotate(row[4], xy = (conc, MFI), textcoords = \"offset points\", xytext = (8, -2), ha ='left')\n",
    "#     #texts.append(plt.text(ab, conc, MFI))"
   ]
  },
  {
   "cell_type": "code",
   "execution_count": null,
   "id": "3c8625fb",
   "metadata": {},
   "outputs": [],
   "source": []
  }
 ],
 "metadata": {
  "kernelspec": {
   "display_name": "Python 3 (ipykernel)",
   "language": "python",
   "name": "python3"
  },
  "language_info": {
   "codemirror_mode": {
    "name": "ipython",
    "version": 3
   },
   "file_extension": ".py",
   "mimetype": "text/x-python",
   "name": "python",
   "nbconvert_exporter": "python",
   "pygments_lexer": "ipython3",
   "version": "3.10.5"
  }
 },
 "nbformat": 4,
 "nbformat_minor": 5
}
