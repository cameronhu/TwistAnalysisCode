{
 "cells": [
  {
   "cell_type": "code",
   "execution_count": null,
   "id": "f00ff2da",
   "metadata": {},
   "outputs": [],
   "source": [
    "import pandas as pd, ipywidgets as widgets, numpy as np, matplotlib.pyplot as plt\n",
    "import io as io\n",
    "raw_uploader, eln_uploader = widgets.FileUpload(multiple = False), widgets.FileUpload(multiple = False)\n",
    "display(\"Upload iQue3 Data (csv)\")\n",
    "display(raw_uploader)\n",
    "display(\"Upload ELN w/ Antibodies Sheet (xlsx)\")\n",
    "display(eln_uploader)"
   ]
  },
  {
   "cell_type": "code",
   "execution_count": null,
   "id": "51b74700",
   "metadata": {},
   "outputs": [],
   "source": [
    "iquename, elnname = list(raw_uploader.value.keys())[0], list(eln_uploader.value.keys())[0]\n",
    "iquedata = pd.read_csv(io.BytesIO(raw_uploader.value[iquename]['content']))\n",
    "eln = pd.read_excel(io.BytesIO(eln_uploader.value[elnname]['content']))\n",
    "ab_sheet = pd.read_excel(io.BytesIO(eln_uploader.value[elnname]['content']), sheet_name = \"Antibody Plate Map\")\n",
    "data_cleaned = iquedata[[\"Plate\", \"Well ID\", \"Well Type\", \"Median RL1-H of singlets\", \"Count of singlets\"]]\n",
    "data_cleaned"
   ]
  },
  {
   "cell_type": "code",
   "execution_count": null,
   "id": "6e3871f8",
   "metadata": {},
   "outputs": [],
   "source": [
    "#Function that ensures a given antibody platemap is formatted correctly (by columns, not rows)\n",
    "#ie A1->B1-->H1->A2-->B2-->A12-->H12\n",
    "#Currently only working for single platemap, not multiple platemaps merged and identified by a plate number\n",
    "#First, separate the Well ID into separate Row and Column values (Row is Letter, Column is Number)\n",
    "#Sort the platemap into proper Column -> Row format\n",
    "#Returns a new dataframe that is exactly ab_sheet, but sorted/formatted correctly\n",
    "def format_platemap():\n",
    "    ab_sheet[\"Format Row\"] = ab_sheet[\"Well ID\"].str.slice(start = 0, stop = 1)\n",
    "    numeric_col = ab_sheet[\"Well ID\"].str.slice(start = 1)\n",
    "    numeric_col = pd.to_numeric(numeric_col)\n",
    "    ab_sheet[\"Format Column\"] = numeric_col\n",
    "    ab_sheet.sort_values(by=[\"Format Column\", \"Format Row\"], inplace=True, ignore_index = True)\n",
    "    return\n",
    "\n",
    "#Return cleaned iQue3 data with only samples of the well type specified\n",
    "def clean_for_well_type(well_type_string):\n",
    "    return data_cleaned[data_cleaned[\"Well Type\"] == well_type_string]\n",
    "\n",
    "#Average function that takes a string indicating which well type to average (well_type_string)\n",
    "#Also takes a string indicating what data from the inidicated well type to average (to_average_string)\n",
    "#ie. \"Median RL1H\" or \"Cell Count\"(\n",
    "#Separates n=1 and n=2 replicates from 384 well format, resets indeces, and averages\n",
    "#Returns a series with the averaged MFI ratios, removing the replicate wells\n",
    "def average(well_type_string, to_average_string):\n",
    "    selected_wells = clean_for_well_type(well_type_string)\n",
    "    values_to_average = selected_wells[to_average_string]\n",
    "    return average(values_to_average)\n",
    "\n",
    "#Average function that takes a series with n=1, n=2 replicates in sequential order within the series, and \n",
    "#Separates n=1 and n=2 replicates resets indeces, and calculates average\n",
    "#Returns a series with the averaged MFI ratios, removing the replicate wells\n",
    "def average(series_to_average):\n",
    "    firsts = series_to_average.iloc[::2]\n",
    "    seconds = series_to_average.iloc[1::2]\n",
    "    firsts.reset_index(inplace = True, drop = True)\n",
    "    seconds.reset_index(inplace = True, drop = True)\n",
    "    averaged_series = firsts + seconds\n",
    "    averaged_series = averaged_series/2\n",
    "    return averaged_series\n",
    "\n",
    "\n",
    "#Calculates the MFI ratio given a positive and negative series, \n",
    "#and appends the MFI ratio to the original data frame, excluding the negative population\n",
    "#Calculates the average cell count for each duplicate, and appends average cell count to original data frame\n",
    "def calculate_analysis_sheet(positive, negative):\n",
    "    MFI_ratio = positive/negative\n",
    "    original_positive = clean_for_well_type(\"Positive\")\n",
    "    original_positive = original_positive[::2]\n",
    "    original_positive.reset_index(inplace = True, drop = True)\n",
    "    original_positive[\"MFI Ratio\"] = MFI_ratio\n",
    "    MFIs_Antibody = pd.concat([original_positive, ab_sheet], axis = 1)\n",
    "    MFIs_Antibody.index += 1\n",
    "    averagePositiveCounts = average(\"Positive\", \"Count of singlets\")\n",
    "    return MFIs_Antibody[[\"Plate\", \"Well ID\", \"Well Type\", \"MFI Ratio\", \"DNA\", \"Format Row\", \"Format Column\"]] "
   ]
  },
  {
   "cell_type": "code",
   "execution_count": null,
   "id": "5ca1fb52",
   "metadata": {},
   "outputs": [],
   "source": [
    "#Create average MFI of positive population series and average MFI of negative population series\n",
    "averagePositive = average(\"Positive\", \"Median RL1-H of singlets\")\n",
    "averageNegative = average(\"Negative\", \"Median RL1-H of singlets\")\n",
    "\n",
    "#Format the antibody platemap\n",
    "format_platemap()\n",
    "\n",
    "#Create new DF for MFI ratios(don't modify originals)\n",
    "analyzed_data = calculate_analysis_sheet(averagePositive, averageNegative)\n",
    "analyzed_data.to_excel(\"Flow Binding MFI Ratios\", sheet_name='Analyzed Data')\n",
    "AllLeadsSorted = analyzed_data.sort_values(by=\"MFI Ratio\", ascending = False)\n",
    "analyzed_data\n",
    "#AllLeadsSorted"
   ]
  },
  {
   "cell_type": "code",
   "execution_count": null,
   "id": "5806ec23",
   "metadata": {},
   "outputs": [],
   "source": [
    "# #Sort DF by highest MFI ratio (top hits)\n",
    "# AllLeadsSorted = MFIRatio_Antibody_cleaned.sort_values(by=\"MFI Ratio\", ascending = False)\n",
    "# Top10 = MFIRatio_Antibody_cleaned.nlargest(10, \"MFI Ratio\")\n",
    "# #Top10 = Top10.append(MFIRatio_Antibody_cleaned.loc[MFIRatio_Antibody_cleaned[\"DNA\"] == \"SC-175-017\"])\n",
    "# fig, ax = plt.subplots()\n",
    "# ax.scatter(x = AllLeadsSorted[\"Protein Concentration (ug/uL)\"], y=AllLeadsSorted[\"MFI Ratio\"], alpha = .2, color = \"blue\")\n",
    "# ax.scatter(x = Top10[\"Protein Concentration (ug/uL)\"], y = Top10[\"MFI Ratio\"], alpha = .8, color = \"blue\", label = \"Top Hits\")\n",
    "# ax.set_title(\"CD40 Primary Screen\")\n",
    "# ax.set_xlabel(\"Concentration (mg/ml)\")\n",
    "# ax.set_ylabel(\"MFI Ratio \\n Transfected/Untransfected\")\n",
    "# ax.legend()\n",
    "\n",
    "# texts = []\n",
    "# for row in Top10.itertuples(index = False):\n",
    "#     ab, conc, MFI = row[4], row[5], row[3]\n",
    "#     ax.annotate(row[4], xy = (conc, MFI), textcoords = \"offset points\", xytext = (8, -2), ha ='left')\n",
    "#     #texts.append(plt.text(ab, conc, MFI))"
   ]
  }
 ],
 "metadata": {
  "kernelspec": {
   "display_name": "Python 3 (ipykernel)",
   "language": "python",
   "name": "python3"
  },
  "language_info": {
   "codemirror_mode": {
    "name": "ipython",
    "version": 3
   },
   "file_extension": ".py",
   "mimetype": "text/x-python",
   "name": "python",
   "nbconvert_exporter": "python",
   "pygments_lexer": "ipython3",
   "version": "3.10.5"
  }
 },
 "nbformat": 4,
 "nbformat_minor": 5
}
