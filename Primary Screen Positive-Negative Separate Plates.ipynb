{
 "cells": [
  {
   "cell_type": "code",
   "execution_count": null,
   "id": "f00ff2da",
   "metadata": {},
   "outputs": [],
   "source": [
    "import pandas as pd, ipywidgets as widgets, numpy as np, matplotlib.pyplot as plt, io\n",
    "from adjustText import adjust_text\n",
    "positive_uploader, negative_uploader, eln_uploader = widgets.FileUpload(multiple = False), widgets.FileUpload(multiple = False), widgets.FileUpload(multiple = False)\n",
    "display(\"Upload Transfected iQue3 Data (csv)\")\n",
    "display(positive_uploader)\n",
    "display(\"Upload Parental iQue3 Data (csv)\")\n",
    "display(negative_uploader)\n",
    "display(\"Upload ELN w/ Antibodies Sheet (xlsx)\")\n",
    "display(eln_uploader)"
   ]
  },
  {
   "cell_type": "code",
   "execution_count": null,
   "id": "51b74700",
   "metadata": {},
   "outputs": [],
   "source": [
    "positivename, negativename, elnname = list(positive_uploader.value.keys())[0], list(negative_uploader.value.keys())[0], list(eln_uploader.value.keys())[0]\n",
    "positive_iquedata = pd.read_csv(io.BytesIO(positive_uploader.value[iquename]['content']))\n",
    "negative_iquedata = pd.read_csv(io.BytesIO(negative_uploader.value[iquename]['content']))\n",
    "eln = pd.read_excel(io.BytesIO(eln_uploader.value[elnname]['content']))\n",
    "ab_sheet = pd.read_excel(io.BytesIO(eln_uploader.value[elnname]['content']), sheet_name = \"Antibody Plate Map\")\n",
    "#positive_iquedata"
   ]
  },
  {
   "cell_type": "code",
   "execution_count": null,
   "id": "99427c3f",
   "metadata": {},
   "outputs": [],
   "source": [
    "positive_data_cleaned = positive_iquedata[[\"Plate\", \"Well ID\", \"Well Type\", \"Median RL1-H of singlets\"]]\n",
    "#positive_data_cleaned\n",
    "negative_data_cleaned = negative_iquedata[[\"Plate\", \"Well ID\", \"Well Type\", \"Median RL1-H of singlets\"]]"
   ]
  },
  {
   "cell_type": "code",
   "execution_count": null,
   "id": "4531a705",
   "metadata": {},
   "outputs": [],
   "source": [
    "#Create a series with only the Positive population from plate, and another series with only those MFIs\n",
    "#Separate n=1 and n=2 duplicates, average them and reset the indeces \n",
    "positives_MFI = positive_data_cleaned[\"Median RL1-H of singlets\"]\n",
    "firsts = positives_MFI.iloc[::2]\n",
    "seconds = positives_MFI.iloc[1::2]\n",
    "firsts.reset_index(inplace = True, drop = True)\n",
    "seconds.reset_index(inplace = True, drop = True)\n",
    "averagePositive = firsts + seconds\n",
    "averagePositive = averagePositive / 2"
   ]
  },
  {
   "cell_type": "code",
   "execution_count": null,
   "id": "9a66afbd",
   "metadata": {},
   "outputs": [],
   "source": [
    "#Do the same with the Negative population (untransfected controls)\n",
    "negatives_MFI = negative_data_cleaned[\"Median RL1-H of singlets\"]\n",
    "negatives_MFI.reset_index(inplace = True, drop = True)\n",
    "firsts = negatives_MFI.iloc[::2]\n",
    "seconds = negatives_MFI.iloc[1::2]\n",
    "firsts.reset_index(inplace = True, drop = True)\n",
    "seconds.reset_index(inplace = True, drop = True)\n",
    "averageNegative = firsts + seconds\n",
    "averageNegative = averageNegative / 2\n",
    "\n",
    "#averageNegative"
   ]
  },
  {
   "cell_type": "code",
   "execution_count": null,
   "id": "5ca1fb52",
   "metadata": {},
   "outputs": [],
   "source": [
    "#Create new DF for MFI ratios(don't modify originals)\n",
    "MFIratios = averagePositive / averageNegative\n",
    "positives_MFIratio = positive_data_cleaned.copy()\n",
    "positives_MFIratio = positives_MFIratio[::2]\n",
    "positives_MFIratio.reset_index(inplace = True, drop = True)\n",
    "positives_MFIratio[\"MFI Ratio\"] = MFIratios\n",
    "\n",
    "MFIRatio_Antibody = pd.concat([positives_MFIratio, ab_sheet], axis = 1)\n",
    "#MFIRatio_Antibody\n",
    "MFIRatio_Antibody_cleaned = MFIRatio_Antibody[[\"Plate\", \"Well ID\", \"Well Type\", \"MFI Ratio\", \"DNA\", \"Protein Concentration (ug/uL)\"]]\n",
    "#MFIRatio_Antibody_cleaned = MFIRatio_Antibody_cleaned[MFIRatio_Antibody_cleaned[\"DNA\"].notna()]\n",
    "MFIRatio_Antibody_cleaned.to_excel(\"Well_ID_MFI_Ratio.xlsx\")\n",
    "AllLeadsSorted = MFIRatio_Antibody_cleaned.sort_values(by=\"MFI Ratio\", ascending = False)\n",
    "AllLeadsSorted"
   ]
  },
  {
   "cell_type": "code",
   "execution_count": null,
   "id": "5806ec23",
   "metadata": {},
   "outputs": [],
   "source": [
    "#Sort DF by highest MFI ratio (top hits)\n",
    "AllLeadsSorted = MFIRatio_Antibody_cleaned.sort_values(by=\"MFI Ratio\", ascending = False)\n",
    "Top10 = MFIRatio_Antibody_cleaned.nlargest(10, \"MFI Ratio\")\n",
    "#Top10 = Top10.append(MFIRatio_Antibody_cleaned.loc[MFIRatio_Antibody_cleaned[\"DNA\"] == \"SC-175-017\"])\n",
    "fig, ax = plt.subplots()\n",
    "ax.scatter(x = AllLeadsSorted[\"Protein Concentration (ug/uL)\"], y=AllLeadsSorted[\"MFI Ratio\"], alpha = .2, color = \"blue\")\n",
    "ax.scatter(x = Top10[\"Protein Concentration (ug/uL)\"], y = Top10[\"MFI Ratio\"], alpha = .8, color = \"blue\", label = \"Top Hits\")\n",
    "ax.set_title(\"CD40 Primary Screen\")\n",
    "ax.set_xlabel(\"Concentration (mg/ml)\")\n",
    "ax.set_ylabel(\"MFI Ratio \\n Transfected/Untransfected\")\n",
    "ax.legend()\n",
    "\n",
    "# texts = []\n",
    "# for row in Top10.itertuples(index = False):\n",
    "#     ab, conc, MFI = row[4], row[5], row[3]\n",
    "#     ax.annotate(row[4], xy = (conc, MFI), textcoords = \"offset points\", xytext = (8, -2), ha ='left')\n",
    "#     #texts.append(plt.text(ab, conc, MFI))"
   ]
  },
  {
   "cell_type": "code",
   "execution_count": null,
   "id": "3c8625fb",
   "metadata": {},
   "outputs": [],
   "source": []
  }
 ],
 "metadata": {
  "kernelspec": {
   "display_name": "Python 3 (ipykernel)",
   "language": "python",
   "name": "python3"
  },
  "language_info": {
   "codemirror_mode": {
    "name": "ipython",
    "version": 3
   },
   "file_extension": ".py",
   "mimetype": "text/x-python",
   "name": "python",
   "nbconvert_exporter": "python",
   "pygments_lexer": "ipython3",
   "version": "3.9.7"
  }
 },
 "nbformat": 4,
 "nbformat_minor": 5
}
