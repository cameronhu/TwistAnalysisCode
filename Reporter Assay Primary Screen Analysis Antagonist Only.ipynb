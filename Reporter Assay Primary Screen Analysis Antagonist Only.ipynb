{
 "cells": [
  {
   "cell_type": "code",
   "execution_count": null,
   "id": "f00ff2da",
   "metadata": {},
   "outputs": [],
   "source": [
    "import pandas as pd, ipywidgets as widgets, numpy as np, matplotlib.pyplot as plt, io\n",
    "from adjustText import adjust_text\n",
    "raw_uploader, eln_uploader = widgets.FileUpload(multiple = False), widgets.FileUpload(multiple = False)\n",
    "display(\"Upload ELN w/ Reporter Data and Antibodies Sheet (xlsx)\")\n",
    "display(eln_uploader)"
   ]
  },
  {
   "cell_type": "code",
   "execution_count": null,
   "id": "51b74700",
   "metadata": {},
   "outputs": [],
   "source": [
    "elnname = list(eln_uploader.value.keys())[0]\n",
    "eln = pd.read_excel(io.BytesIO(eln_uploader.value[elnname]['content']))\n",
    "reporter_antagonist_data = pd.read_excel(io.BytesIO(eln_uploader.value[elnname]['content']), sheet_name = \"Reporter Antagonist\")\n",
    "ab_sheet = pd.read_excel(io.BytesIO(eln_uploader.value[elnname]['content']), sheet_name = \"Antibody Plate Map\")\n",
    "reporter_antagonist_data"
   ]
  },
  {
   "cell_type": "code",
   "execution_count": null,
   "id": "62917ec3",
   "metadata": {},
   "outputs": [],
   "source": [
    "#Concatenate all antagonist columns into a their respective single Series\n",
    "#The input for this code should be FFLuc divided by RLuc already (the divided table)\n",
    "reporter_antagonist_column = pd.Series()\n",
    "for column in reporter_antagonist_data.columns:\n",
    "    colToAdd = reporter_antagonist_data[column]\n",
    "    reporter_antagonist_column = pd.concat([reporter_antagonist_column, colToAdd], axis = 0, ignore_index = True)"
   ]
  },
  {
   "cell_type": "code",
   "execution_count": null,
   "id": "9a66afbd",
   "metadata": {},
   "outputs": [],
   "source": [
    "#Separate n=1 and n=2 duplicates, average them and reset the indeces: for Antagonist conditions\n",
    "firsts = reporter_antagonist_column.iloc[::2]\n",
    "seconds = reporter_antagonist_column.iloc[1::2]\n",
    "first_reset = firsts.reset_index(drop = True)\n",
    "second_reset = seconds.reset_index(drop = True)\n",
    "averageAntagonists = first_reset + second_reset\n",
    "averageAntagonists = averageAntagonists / 2"
   ]
  },
  {
   "cell_type": "code",
   "execution_count": null,
   "id": "5ca1fb52",
   "metadata": {},
   "outputs": [],
   "source": [
    "#Create new DF for concatenating the Agonist, Antagonist signals, and the Antibody Plate Map\n",
    "OutputSheet = pd.concat([averageAgonists, averageAntagonists, ab_sheet], axis = 1)\n",
    "OutputSheet.index += 1\n",
    "OutputSheet.rename(inplace = True, columns = {0: \"Antagonist Mode\"})\n",
    "OutputSheetCleaned = OutputSheet[[\"Antagonist Mode\", \"DNA\", \"Concentration (mg/mL)\"]]\n",
    "OutputSheetCleaned.to_excel(\"Reporter_Output.xlsx\")\n",
    "AntagonistSort = OutputSheetCleaned.sort_values(by=\"Antagonist Mode\", ascending = False)"
   ]
  },
  {
   "cell_type": "code",
   "execution_count": null,
   "id": "5806ec23",
   "metadata": {},
   "outputs": [],
   "source": [
    "# Top10Antagonists = OutputSheetCleaned.nsmallest(10, \"Antagonist Mode\")\n",
    "# fig, ax = plt.subplots()\n",
    "# ax.scatter(x = OutputSheetCleaned[\"Protein Concentration (ug/uL)\"], y=OutputSheetCleaned[\"Antagonist Mode\"], alpha = .2, color = \"red\")\n",
    "# ax.scatter(x = Top10Antagonists[\"Protein Concentration (ug/uL)\"], y = Top10Antagonists[\"Antagonist Mode\"], alpha = .8, color = \"red\", label = \"Top Antagonist Hits\")\n",
    "# ax.set_title(\"BRET Primary Screen\")\n",
    "# ax.set_xlabel(\"Concentration (mg/ml)\")\n",
    "# ax.set_ylabel(\"cAMP Levels\")\n",
    "# ax.legend()\n"
   ]
  }
 ],
 "metadata": {
  "kernelspec": {
   "display_name": "Python 3 (ipykernel)",
   "language": "python",
   "name": "python3"
  },
  "language_info": {
   "codemirror_mode": {
    "name": "ipython",
    "version": 3
   },
   "file_extension": ".py",
   "mimetype": "text/x-python",
   "name": "python",
   "nbconvert_exporter": "python",
   "pygments_lexer": "ipython3",
   "version": "3.10.5"
  }
 },
 "nbformat": 4,
 "nbformat_minor": 5
}
