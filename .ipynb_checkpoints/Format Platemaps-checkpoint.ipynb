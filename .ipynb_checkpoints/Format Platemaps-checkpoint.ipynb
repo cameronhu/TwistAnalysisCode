{
 "cells": [
  {
   "cell_type": "code",
   "execution_count": null,
   "id": "8a5265bb",
   "metadata": {},
   "outputs": [],
   "source": [
    "import pandas as pd, ipywidgets as widgets, numpy as np, matplotlib.pyplot as plt, io\n",
    "from ipywidgets import interact, interactive, fixed, interact_manual\n",
    "\n",
    "#Function that ensures a given antibody platemap is formatted correctly (by columns, not rows)\n",
    "#Mutable function that changes the data frame passed in by argument \"ab_sheet\"\n",
    "#ie A1->B1-->H1->A2-->B2-->A12-->H12\n",
    "#First, separate the Well ID into separate \"Plate Number\",\"Format Row\" and \"Format Column\" values \n",
    "#(Row is Letter, Column is Number)\n",
    "#Sort the platemap into proper Plate -> Column -> Row format\n",
    "#Returns nothing, mutates the ab_sheet antibody plate map\n",
    "def format_platemap(ab_sheet):\n",
    "    ab_sheet[\"Format Row\"] = ab_sheet[\"Well ID\"].str.slice(start = 0, stop = 1)\n",
    "    numeric_col = ab_sheet[\"Well ID\"].str.slice(start = 1)\n",
    "    numeric_col = pd.to_numeric(numeric_col)\n",
    "    ab_sheet[\"Format Column\"] = numeric_col\n",
    "    ab_sheet.sort_values(by=[\"Plate Number\",\"Format Column\", \"Format Row\"], inplace=True, ignore_index = True)\n",
    "    return\n",
    "\n",
    "eln_uploader = widgets.FileUpload(multiple = False)\n",
    "\n",
    "display(\"Upload Antibody Platemap to be formatted\"\n",
    "display(eln_uploader)"
   ]
  },
  {
   "cell_type": "code",
   "execution_count": 1,
   "id": "70e2e438",
   "metadata": {},
   "outputs": [
    {
     "ename": "NameError",
     "evalue": "name 'eln_uploader' is not defined",
     "output_type": "error",
     "traceback": [
      "\u001b[0;31m---------------------------------------------------------------------------\u001b[0m",
      "\u001b[0;31mNameError\u001b[0m                                 Traceback (most recent call last)",
      "Input \u001b[0;32mIn [1]\u001b[0m, in \u001b[0;36m<cell line: 1>\u001b[0;34m()\u001b[0m\n\u001b[0;32m----> 1\u001b[0m elnname \u001b[38;5;241m=\u001b[39m \u001b[38;5;28mlist\u001b[39m(\u001b[43meln_uploader\u001b[49m\u001b[38;5;241m.\u001b[39mvalue\u001b[38;5;241m.\u001b[39mkeys())[\u001b[38;5;241m0\u001b[39m]\n",
      "\u001b[0;31mNameError\u001b[0m: name 'eln_uploader' is not defined"
     ]
    }
   ],
   "source": [
    "elnname = list(eln_uploader.value.keys())[0]\n",
    "ab_sheet = pd.read_excel(io.BytesIO(eln_uploader.value[elnname]['content']), sheet_name = \"Antibody Plate Map\")\n",
    "format_platemap(ab_sheet)\n",
    "ab_sheet.to_excel(elnname+\" Formatted.xlsx\")"
   ]
  }
 ],
 "metadata": {
  "kernelspec": {
   "display_name": "Python 3 (ipykernel)",
   "language": "python",
   "name": "python3"
  },
  "language_info": {
   "codemirror_mode": {
    "name": "ipython",
    "version": 3
   },
   "file_extension": ".py",
   "mimetype": "text/x-python",
   "name": "python",
   "nbconvert_exporter": "python",
   "pygments_lexer": "ipython3",
   "version": "3.10.5"
  }
 },
 "nbformat": 4,
 "nbformat_minor": 5
}
