{
 "cells": [
  {
   "cell_type": "code",
   "execution_count": 7,
   "id": "f00ff2da",
   "metadata": {},
   "outputs": [],
   "source": [
    "import pandas as pd, ipywidgets as widgets, numpy as np, matplotlib.pyplot as plt, io\n",
    "from ipywidgets import interact, interactive, fixed, interact_manual\n",
    "\n",
    "#Function that ensures a given antibody platemap is formatted correctly (by columns, not rows)\n",
    "#Mutable function that changes the data frame passed in by argument \"ab_sheet\"\n",
    "#ie A1->B1-->H1->A2-->B2-->A12-->H12\n",
    "#First, separate the Well ID into separate \"Plate Number\",\"Format Row\" and \"Format Column\" values \n",
    "#(Row is Letter, Column is Number)\n",
    "#Sort the platemap into proper Plate -> Column -> Row format\n",
    "#Returns nothing, mutates the ab_sheet antibody plate map\n",
    "def format_platemap(ab_sheet):\n",
    "    ab_sheet[\"Format Row\"] = ab_sheet[\"Well ID\"].str.slice(start = 0, stop = 1)\n",
    "    numeric_col = ab_sheet[\"Well ID\"].str.slice(start = 1)\n",
    "    numeric_col = pd.to_numeric(numeric_col)\n",
    "    ab_sheet[\"Format Column\"] = numeric_col\n",
    "    ab_sheet.sort_values(by=[\"Plate Number\",\"Format Column\", \"Format Row\"], inplace=True, ignore_index = True)\n",
    "    return\n",
    "\n",
    "#Average function that takes a series with n=1, n=2 replicates in sequential order within the series, and \n",
    "#Separates n=1 and n=2 replicates resets indeces, and calculates average\n",
    "#Returns a series with the averaged values, removing the replicate wells\n",
    "def average(series_to_average):\n",
    "    firsts = series_to_average.iloc[::2]\n",
    "    seconds = series_to_average.iloc[1::2]\n",
    "    firsts.reset_index(inplace = True, drop = True)\n",
    "    seconds.reset_index(inplace = True, drop = True)\n",
    "    averaged_series = firsts + seconds\n",
    "    averaged_series = averaged_series/2\n",
    "    return averaged_series\n",
    "\n",
    "#Takes a Pandas dataframe as an input. Takes every column from the dataframe and concatenates them into one single series\n",
    "#Returns the new series that has all of the data in one column, starting from 1st column -> max # of columns\n",
    "def columnize(df_to_columnize):\n",
    "    return_column = pd.Series()\n",
    "    for column in df_to_columnize.columns:\n",
    "        colToAdd = df_to_columnize[column]\n",
    "        return_column = pd.concat([return_column, colToAdd], axis = 0, ignore_index = True)\n",
    "    return return_column\n",
    "\n",
    "def run_analysis(b):\n",
    "    elnname = list(eln_uploader.value.keys())[0]\n",
    "    eln = pd.read_excel(io.BytesIO(eln_uploader.value[elnname]['content']))\n",
    "    ab_sheet = pd.read_excel(io.BytesIO(eln_uploader.value[elnname]['content']), sheet_name = \"Antibody Plate Map\")\n",
    "    functional_assay_type = assay_type_widget.value\n",
    "    antagonist_data = pd.read_excel(io.BytesIO(eln_uploader.value[elnname]['content']), \n",
    "                                sheet_name = functional_assay_type + \" Antagonist\")\n",
    "\n",
    "    #Create new DF for concatenating the Agonist, Antagonist signals, and the Antibody Plate Map\n",
    "    format_platemap(ab_sheet)\n",
    "    antagonist_column = columnize(antagonist_data)\n",
    "    averageAntagonists = average(antagonist_column)\n",
    "    OutputSheet = pd.concat([averageAntagonists, ab_sheet], axis = 1)\n",
    "    OutputSheet.index += 1\n",
    "    OutputSheet.rename(inplace = True, columns = {0: \"Antagonist Mode\"})\n",
    "    OutputSheetCleaned = OutputSheet[[\"Antagonist Mode\", \"Protein Name\", \"Concentration\"]]\n",
    "    OutputSheetCleaned.to_excel(functional_assay_type + \" Functional Assay Agonist and Antagonist Mode Analysis.xlsx\", sheet_name = 'Analyzed Data')\n",
    "    AntagonistSort = OutputSheetCleaned.sort_values(by=\"Antagonist Mode\", ascending = False)\n",
    "    display(AntagonistSort)\n",
    "    #AntagonistSort = OutputSheetCleaned.sort_values(by=\"Antagonist Mode\", ascending = False)\n",
    "    #OutputSheet\n"
   ]
  },
  {
   "cell_type": "code",
   "execution_count": 8,
   "id": "38ee7800",
   "metadata": {},
   "outputs": [
    {
     "data": {
      "text/plain": [
       "'Upload ELN w/ Functional Data and Antibodies Sheet (xlsx), and specify assay type'"
      ]
     },
     "metadata": {},
     "output_type": "display_data"
    },
    {
     "data": {
      "application/vnd.jupyter.widget-view+json": {
       "model_id": "8b84e072993e41598ba59c0515edc63b",
       "version_major": 2,
       "version_minor": 0
      },
      "text/plain": [
       "FileUpload(value={}, description='Upload')"
      ]
     },
     "metadata": {},
     "output_type": "display_data"
    },
    {
     "data": {
      "application/vnd.jupyter.widget-view+json": {
       "model_id": "17737b9ad7e4433fbf97f48be6609430",
       "version_major": 2,
       "version_minor": 0
      },
      "text/plain": [
       "Text(value='', description='Assay Type:', placeholder='Type something')"
      ]
     },
     "metadata": {},
     "output_type": "display_data"
    },
    {
     "data": {
      "application/vnd.jupyter.widget-view+json": {
       "model_id": "488a69eb69e843d5abfc816944158b26",
       "version_major": 2,
       "version_minor": 0
      },
      "text/plain": [
       "Button(description='Run Analysis', style=ButtonStyle())"
      ]
     },
     "metadata": {},
     "output_type": "display_data"
    },
    {
     "name": "stderr",
     "output_type": "stream",
     "text": [
      "/var/folders/k8/mg372j_55z30k1z4y_8mb0w00000gn/T/ipykernel_99061/2773800160.py:34: FutureWarning: The default dtype for empty Series will be 'object' instead of 'float64' in a future version. Specify a dtype explicitly to silence this warning.\n",
      "  return_column = pd.Series()\n"
     ]
    },
    {
     "ename": "KeyError",
     "evalue": "\"['Concentration'] not in index\"",
     "output_type": "error",
     "traceback": [
      "\u001b[0;31m---------------------------------------------------------------------------\u001b[0m",
      "\u001b[0;31mKeyError\u001b[0m                                  Traceback (most recent call last)",
      "\u001b[0;32m/var/folders/k8/mg372j_55z30k1z4y_8mb0w00000gn/T/ipykernel_99061/2773800160.py\u001b[0m in \u001b[0;36mrun_analysis\u001b[0;34m(b)\u001b[0m\n\u001b[1;32m     53\u001b[0m     \u001b[0mOutputSheet\u001b[0m\u001b[0;34m.\u001b[0m\u001b[0mindex\u001b[0m \u001b[0;34m+=\u001b[0m \u001b[0;36m1\u001b[0m\u001b[0;34m\u001b[0m\u001b[0;34m\u001b[0m\u001b[0m\n\u001b[1;32m     54\u001b[0m     \u001b[0mOutputSheet\u001b[0m\u001b[0;34m.\u001b[0m\u001b[0mrename\u001b[0m\u001b[0;34m(\u001b[0m\u001b[0minplace\u001b[0m \u001b[0;34m=\u001b[0m \u001b[0;32mTrue\u001b[0m\u001b[0;34m,\u001b[0m \u001b[0mcolumns\u001b[0m \u001b[0;34m=\u001b[0m \u001b[0;34m{\u001b[0m\u001b[0;36m0\u001b[0m\u001b[0;34m:\u001b[0m \u001b[0;34m\"Antagonist Mode\"\u001b[0m\u001b[0;34m}\u001b[0m\u001b[0;34m)\u001b[0m\u001b[0;34m\u001b[0m\u001b[0;34m\u001b[0m\u001b[0m\n\u001b[0;32m---> 55\u001b[0;31m     \u001b[0mOutputSheetCleaned\u001b[0m \u001b[0;34m=\u001b[0m \u001b[0mOutputSheet\u001b[0m\u001b[0;34m[\u001b[0m\u001b[0;34m[\u001b[0m\u001b[0;34m\"Antagonist Mode\"\u001b[0m\u001b[0;34m,\u001b[0m \u001b[0;34m\"Protein Name\"\u001b[0m\u001b[0;34m,\u001b[0m \u001b[0;34m\"Concentration\"\u001b[0m\u001b[0;34m]\u001b[0m\u001b[0;34m]\u001b[0m\u001b[0;34m\u001b[0m\u001b[0;34m\u001b[0m\u001b[0m\n\u001b[0m\u001b[1;32m     56\u001b[0m     \u001b[0mOutputSheetCleaned\u001b[0m\u001b[0;34m.\u001b[0m\u001b[0mto_excel\u001b[0m\u001b[0;34m(\u001b[0m\u001b[0mfunctional_assay_type\u001b[0m \u001b[0;34m+\u001b[0m \u001b[0;34m\" Functional Assay Agonist and Antagonist Mode Analysis.xlsx\"\u001b[0m\u001b[0;34m,\u001b[0m \u001b[0msheet_name\u001b[0m \u001b[0;34m=\u001b[0m \u001b[0;34m'Analyzed Data'\u001b[0m\u001b[0;34m)\u001b[0m\u001b[0;34m\u001b[0m\u001b[0;34m\u001b[0m\u001b[0m\n\u001b[1;32m     57\u001b[0m     \u001b[0mAntagonistSort\u001b[0m \u001b[0;34m=\u001b[0m \u001b[0mOutputSheetCleaned\u001b[0m\u001b[0;34m.\u001b[0m\u001b[0msort_values\u001b[0m\u001b[0;34m(\u001b[0m\u001b[0mby\u001b[0m\u001b[0;34m=\u001b[0m\u001b[0;34m\"Antagonist Mode\"\u001b[0m\u001b[0;34m,\u001b[0m \u001b[0mascending\u001b[0m \u001b[0;34m=\u001b[0m \u001b[0;32mFalse\u001b[0m\u001b[0;34m)\u001b[0m\u001b[0;34m\u001b[0m\u001b[0;34m\u001b[0m\u001b[0m\n",
      "\u001b[0;32m~/opt/anaconda3/lib/python3.9/site-packages/pandas/core/frame.py\u001b[0m in \u001b[0;36m__getitem__\u001b[0;34m(self, key)\u001b[0m\n\u001b[1;32m   3509\u001b[0m             \u001b[0;32mif\u001b[0m \u001b[0mis_iterator\u001b[0m\u001b[0;34m(\u001b[0m\u001b[0mkey\u001b[0m\u001b[0;34m)\u001b[0m\u001b[0;34m:\u001b[0m\u001b[0;34m\u001b[0m\u001b[0;34m\u001b[0m\u001b[0m\n\u001b[1;32m   3510\u001b[0m                 \u001b[0mkey\u001b[0m \u001b[0;34m=\u001b[0m \u001b[0mlist\u001b[0m\u001b[0;34m(\u001b[0m\u001b[0mkey\u001b[0m\u001b[0;34m)\u001b[0m\u001b[0;34m\u001b[0m\u001b[0;34m\u001b[0m\u001b[0m\n\u001b[0;32m-> 3511\u001b[0;31m             \u001b[0mindexer\u001b[0m \u001b[0;34m=\u001b[0m \u001b[0mself\u001b[0m\u001b[0;34m.\u001b[0m\u001b[0mcolumns\u001b[0m\u001b[0;34m.\u001b[0m\u001b[0m_get_indexer_strict\u001b[0m\u001b[0;34m(\u001b[0m\u001b[0mkey\u001b[0m\u001b[0;34m,\u001b[0m \u001b[0;34m\"columns\"\u001b[0m\u001b[0;34m)\u001b[0m\u001b[0;34m[\u001b[0m\u001b[0;36m1\u001b[0m\u001b[0;34m]\u001b[0m\u001b[0;34m\u001b[0m\u001b[0;34m\u001b[0m\u001b[0m\n\u001b[0m\u001b[1;32m   3512\u001b[0m \u001b[0;34m\u001b[0m\u001b[0m\n\u001b[1;32m   3513\u001b[0m         \u001b[0;31m# take() does not accept boolean indexers\u001b[0m\u001b[0;34m\u001b[0m\u001b[0;34m\u001b[0m\u001b[0m\n",
      "\u001b[0;32m~/opt/anaconda3/lib/python3.9/site-packages/pandas/core/indexes/base.py\u001b[0m in \u001b[0;36m_get_indexer_strict\u001b[0;34m(self, key, axis_name)\u001b[0m\n\u001b[1;32m   5794\u001b[0m             \u001b[0mkeyarr\u001b[0m\u001b[0;34m,\u001b[0m \u001b[0mindexer\u001b[0m\u001b[0;34m,\u001b[0m \u001b[0mnew_indexer\u001b[0m \u001b[0;34m=\u001b[0m \u001b[0mself\u001b[0m\u001b[0;34m.\u001b[0m\u001b[0m_reindex_non_unique\u001b[0m\u001b[0;34m(\u001b[0m\u001b[0mkeyarr\u001b[0m\u001b[0;34m)\u001b[0m\u001b[0;34m\u001b[0m\u001b[0;34m\u001b[0m\u001b[0m\n\u001b[1;32m   5795\u001b[0m \u001b[0;34m\u001b[0m\u001b[0m\n\u001b[0;32m-> 5796\u001b[0;31m         \u001b[0mself\u001b[0m\u001b[0;34m.\u001b[0m\u001b[0m_raise_if_missing\u001b[0m\u001b[0;34m(\u001b[0m\u001b[0mkeyarr\u001b[0m\u001b[0;34m,\u001b[0m \u001b[0mindexer\u001b[0m\u001b[0;34m,\u001b[0m \u001b[0maxis_name\u001b[0m\u001b[0;34m)\u001b[0m\u001b[0;34m\u001b[0m\u001b[0;34m\u001b[0m\u001b[0m\n\u001b[0m\u001b[1;32m   5797\u001b[0m \u001b[0;34m\u001b[0m\u001b[0m\n\u001b[1;32m   5798\u001b[0m         \u001b[0mkeyarr\u001b[0m \u001b[0;34m=\u001b[0m \u001b[0mself\u001b[0m\u001b[0;34m.\u001b[0m\u001b[0mtake\u001b[0m\u001b[0;34m(\u001b[0m\u001b[0mindexer\u001b[0m\u001b[0;34m)\u001b[0m\u001b[0;34m\u001b[0m\u001b[0;34m\u001b[0m\u001b[0m\n",
      "\u001b[0;32m~/opt/anaconda3/lib/python3.9/site-packages/pandas/core/indexes/base.py\u001b[0m in \u001b[0;36m_raise_if_missing\u001b[0;34m(self, key, indexer, axis_name)\u001b[0m\n\u001b[1;32m   5857\u001b[0m \u001b[0;34m\u001b[0m\u001b[0m\n\u001b[1;32m   5858\u001b[0m             \u001b[0mnot_found\u001b[0m \u001b[0;34m=\u001b[0m \u001b[0mlist\u001b[0m\u001b[0;34m(\u001b[0m\u001b[0mensure_index\u001b[0m\u001b[0;34m(\u001b[0m\u001b[0mkey\u001b[0m\u001b[0;34m)\u001b[0m\u001b[0;34m[\u001b[0m\u001b[0mmissing_mask\u001b[0m\u001b[0;34m.\u001b[0m\u001b[0mnonzero\u001b[0m\u001b[0;34m(\u001b[0m\u001b[0;34m)\u001b[0m\u001b[0;34m[\u001b[0m\u001b[0;36m0\u001b[0m\u001b[0;34m]\u001b[0m\u001b[0;34m]\u001b[0m\u001b[0;34m.\u001b[0m\u001b[0munique\u001b[0m\u001b[0;34m(\u001b[0m\u001b[0;34m)\u001b[0m\u001b[0;34m)\u001b[0m\u001b[0;34m\u001b[0m\u001b[0;34m\u001b[0m\u001b[0m\n\u001b[0;32m-> 5859\u001b[0;31m             \u001b[0;32mraise\u001b[0m \u001b[0mKeyError\u001b[0m\u001b[0;34m(\u001b[0m\u001b[0;34mf\"{not_found} not in index\"\u001b[0m\u001b[0;34m)\u001b[0m\u001b[0;34m\u001b[0m\u001b[0;34m\u001b[0m\u001b[0m\n\u001b[0m\u001b[1;32m   5860\u001b[0m \u001b[0;34m\u001b[0m\u001b[0m\n\u001b[1;32m   5861\u001b[0m     \u001b[0;34m@\u001b[0m\u001b[0moverload\u001b[0m\u001b[0;34m\u001b[0m\u001b[0;34m\u001b[0m\u001b[0m\n",
      "\u001b[0;31mKeyError\u001b[0m: \"['Concentration'] not in index\""
     ]
    }
   ],
   "source": [
    "eln_uploader = widgets.FileUpload(multiple = False)\n",
    "assay_type_widget = widgets.Text(placeholder='Type something', description='Assay Type:', disabled=False)\n",
    "run_button_widget = widgets.Button(description=\"Run Analysis\")\n",
    "\n",
    "display(\"Upload ELN w/ Functional Data and Antibodies Sheet (xlsx), and specify assay type\")\n",
    "display(eln_uploader)\n",
    "display(assay_type_widget)\n",
    "display(run_button_widget)\n",
    "run_button_widget.on_click(run_analysis)"
   ]
  },
  {
   "cell_type": "code",
   "execution_count": null,
   "id": "5806ec23",
   "metadata": {},
   "outputs": [],
   "source": [
    "# TopLeads = OutputSheetCleaned.nlargest(10, \"Agonist Mode\")\n",
    "# fig, ax = plt.subplots()\n",
    "# ax.scatter(x = OutputSheetCleaned.index, y=OutputSheetCleaned[\"Agonist Mode\"], alpha = .2, color = \"blue\")\n",
    "# ax.scatter(x = TopLeads.index, y = TopLeads[\"Agonist Mode\"], alpha = .8, color = \"blue\", label = \"Top Hits\")\n",
    "# ax.set_title(functional_assay_type + \" Agonist Primary Screen\")\n",
    "# ax.set_xlabel(\"Antibody Number\")\n",
    "# ax.set_ylabel(functional_assay_type + \" Readout\")\n",
    "# ax.legend()\n"
   ]
  }
 ],
 "metadata": {
  "kernelspec": {
   "display_name": "Python 3 (ipykernel)",
   "language": "python",
   "name": "python3"
  },
  "language_info": {
   "codemirror_mode": {
    "name": "ipython",
    "version": 3
   },
   "file_extension": ".py",
   "mimetype": "text/x-python",
   "name": "python",
   "nbconvert_exporter": "python",
   "pygments_lexer": "ipython3",
   "version": "3.9.13"
  }
 },
 "nbformat": 4,
 "nbformat_minor": 5
}
