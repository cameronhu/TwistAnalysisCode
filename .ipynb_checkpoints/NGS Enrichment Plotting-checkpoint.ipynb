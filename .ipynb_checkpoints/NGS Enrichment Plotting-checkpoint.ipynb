{
 "cells": [
  {
   "cell_type": "code",
   "execution_count": 29,
   "id": "f00ff2da",
   "metadata": {},
   "outputs": [],
   "source": [
    "import pandas as pd, numpy as np, matplotlib.pyplot as plt\n",
    "# import ipywidgets as widgets, io as io\n",
    "# from ipywidgets import interact, interactive, fixed, interact_manual\n",
    "\n",
    "# uploader = widgets.FileUpload(multiple = False, accept ='.csv')\n",
    "# display(\"Upload Enrichment Data (csv)\")\n",
    "# display(uploader)\n",
    "path = \"/Users/chu/Documents/Projects/CXCR4-7/BPX-810 CXCR407 Enrichment/3_S3_L001_R1_001_val_1_q20_joined_human_annotationsvdj_aa_perc_enrichment_sorted_by_final.csv\""
   ]
  },
  {
   "cell_type": "code",
   "execution_count": 42,
   "id": "51b74700",
   "metadata": {},
   "outputs": [
    {
     "data": {
      "text/html": [
       "<div>\n",
       "<style scoped>\n",
       "    .dataframe tbody tr th:only-of-type {\n",
       "        vertical-align: middle;\n",
       "    }\n",
       "\n",
       "    .dataframe tbody tr th {\n",
       "        vertical-align: top;\n",
       "    }\n",
       "\n",
       "    .dataframe thead th {\n",
       "        text-align: right;\n",
       "    }\n",
       "</style>\n",
       "<table border=\"1\" class=\"dataframe\">\n",
       "  <thead>\n",
       "    <tr style=\"text-align: right;\">\n",
       "      <th></th>\n",
       "      <th>ID</th>\n",
       "      <th>seq_id</th>\n",
       "      <th>productive</th>\n",
       "      <th>stop_codon</th>\n",
       "      <th>vj_in_frame</th>\n",
       "      <th>cdr1_aa</th>\n",
       "      <th>cdr2_aa</th>\n",
       "      <th>cdr3_aa</th>\n",
       "      <th>fwr1_aa</th>\n",
       "      <th>fwr2_aa</th>\n",
       "      <th>...</th>\n",
       "      <th>fwr4_aa</th>\n",
       "      <th>vdj_aa</th>\n",
       "      <th>locus</th>\n",
       "      <th>complete_vdj</th>\n",
       "      <th>cdr1_2_3</th>\n",
       "      <th>counts_cdr3_aa</th>\n",
       "      <th>vdj_aa_counts_r4</th>\n",
       "      <th>vdj_aa_counts_r5</th>\n",
       "      <th>5_4_ratio</th>\n",
       "      <th>5_4_perc_change</th>\n",
       "    </tr>\n",
       "  </thead>\n",
       "  <tbody>\n",
       "    <tr>\n",
       "      <th>29</th>\n",
       "      <td>13038</td>\n",
       "      <td>M06135:133:000000000-KL3C8:1:1104:8342:20406:A...</td>\n",
       "      <td>True</td>\n",
       "      <td>False</td>\n",
       "      <td>True</td>\n",
       "      <td>GTTKLTFC</td>\n",
       "      <td>IESEGST</td>\n",
       "      <td>AADLFGVACLRDFNYKY</td>\n",
       "      <td>EVQLLESGGGLVQPGGSLRLSCAAS</td>\n",
       "      <td>MGWFRQAPGKEREGIAG</td>\n",
       "      <td>...</td>\n",
       "      <td>WGQGTLVTVSS</td>\n",
       "      <td>EVQLLESGGGLVQPGGSLRLSCAASGTTKLTFCMGWFRQAPGKERE...</td>\n",
       "      <td>IGH</td>\n",
       "      <td>True</td>\n",
       "      <td>GTTKLTFC_IESEGST_AADLFGVACLRDFNYKY</td>\n",
       "      <td>175</td>\n",
       "      <td>118.0</td>\n",
       "      <td>6286.0</td>\n",
       "      <td>53.271186</td>\n",
       "      <td>5227.118644</td>\n",
       "    </tr>\n",
       "    <tr>\n",
       "      <th>162</th>\n",
       "      <td>17385</td>\n",
       "      <td>M06135:133:000000000-KL3C8:1:2111:14802:10273:...</td>\n",
       "      <td>True</td>\n",
       "      <td>False</td>\n",
       "      <td>True</td>\n",
       "      <td>GNILSLNT</td>\n",
       "      <td>ITSGGST</td>\n",
       "      <td>AADSPGGRSYE</td>\n",
       "      <td>EVQLVESGGGLVQPGGSLRLSCAAS</td>\n",
       "      <td>MGWFRQAPGKERELVAR</td>\n",
       "      <td>...</td>\n",
       "      <td>WGQGTLVTVSS</td>\n",
       "      <td>EVQLVESGGGLVQPGGSLRLSCAASGNILSLNTMGWFRQAPGKERE...</td>\n",
       "      <td>IGH</td>\n",
       "      <td>True</td>\n",
       "      <td>GNILSLNT_ITSGGST_AADSPGGRSYE</td>\n",
       "      <td>341</td>\n",
       "      <td>235.0</td>\n",
       "      <td>4848.0</td>\n",
       "      <td>20.629787</td>\n",
       "      <td>1962.978723</td>\n",
       "    </tr>\n",
       "    <tr>\n",
       "      <th>20</th>\n",
       "      <td>15341</td>\n",
       "      <td>M06135:133:000000000-KL3C8:1:1119:5538:6057:AT...</td>\n",
       "      <td>True</td>\n",
       "      <td>False</td>\n",
       "      <td>True</td>\n",
       "      <td>GSAFSRNV</td>\n",
       "      <td>IWWTVGAP</td>\n",
       "      <td>AVNVGFE</td>\n",
       "      <td>EVQLVESGGGLVQPGGSLRLSCAAS</td>\n",
       "      <td>MGWFRQAPGKEREFVAT</td>\n",
       "      <td>...</td>\n",
       "      <td>WGQGTLVTVSS</td>\n",
       "      <td>EVQLVESGGGLVQPGGSLRLSCAASGSAFSRNVMGWFRQAPGKERE...</td>\n",
       "      <td>IGH</td>\n",
       "      <td>True</td>\n",
       "      <td>GSAFSRNV_IWWTVGAP_AVNVGFE</td>\n",
       "      <td>126</td>\n",
       "      <td>66.0</td>\n",
       "      <td>4143.0</td>\n",
       "      <td>62.772727</td>\n",
       "      <td>6177.272727</td>\n",
       "    </tr>\n",
       "    <tr>\n",
       "      <th>134</th>\n",
       "      <td>7371</td>\n",
       "      <td>M06135:133:000000000-KL3C8:1:2110:7234:6388:AT...</td>\n",
       "      <td>True</td>\n",
       "      <td>False</td>\n",
       "      <td>True</td>\n",
       "      <td>GYSYSSYC</td>\n",
       "      <td>IESEGIA</td>\n",
       "      <td>ALREGGYCYSLNDRMDY</td>\n",
       "      <td>EVQLLESGGGLVQPGGSLRLSCAAS</td>\n",
       "      <td>MGWFRQAPGKEREGVAA</td>\n",
       "      <td>...</td>\n",
       "      <td>WGQGTLVTVSS</td>\n",
       "      <td>EVQLLESGGGLVQPGGSLRLSCAASGYSYSSYCMGWFRQAPGKERE...</td>\n",
       "      <td>IGH</td>\n",
       "      <td>True</td>\n",
       "      <td>GYSYSSYC_IESEGIA_ALREGGYCYSLNDRMDY</td>\n",
       "      <td>204</td>\n",
       "      <td>124.0</td>\n",
       "      <td>2972.0</td>\n",
       "      <td>23.967742</td>\n",
       "      <td>2296.774194</td>\n",
       "    </tr>\n",
       "    <tr>\n",
       "      <th>16</th>\n",
       "      <td>15400</td>\n",
       "      <td>M06135:133:000000000-KL3C8:1:1119:12674:7378:A...</td>\n",
       "      <td>True</td>\n",
       "      <td>False</td>\n",
       "      <td>True</td>\n",
       "      <td>GSIFSISVT</td>\n",
       "      <td>ISSSDGNT</td>\n",
       "      <td>AGDKHQSSWYD</td>\n",
       "      <td>EVQLVESGGGLVQPGGSLRLSCAAS</td>\n",
       "      <td>MGWFRQAPGKEREGVSG</td>\n",
       "      <td>...</td>\n",
       "      <td>WGQGTLVTVSS</td>\n",
       "      <td>EVQLVESGGGLVQPGGSLRLSCAASGSIFSISVTMGWFRQAPGKER...</td>\n",
       "      <td>IGH</td>\n",
       "      <td>True</td>\n",
       "      <td>GSIFSISVT_ISSSDGNT_AGDKHQSSWYD</td>\n",
       "      <td>63</td>\n",
       "      <td>37.0</td>\n",
       "      <td>2684.0</td>\n",
       "      <td>72.540541</td>\n",
       "      <td>7154.054054</td>\n",
       "    </tr>\n",
       "    <tr>\n",
       "      <th>...</th>\n",
       "      <td>...</td>\n",
       "      <td>...</td>\n",
       "      <td>...</td>\n",
       "      <td>...</td>\n",
       "      <td>...</td>\n",
       "      <td>...</td>\n",
       "      <td>...</td>\n",
       "      <td>...</td>\n",
       "      <td>...</td>\n",
       "      <td>...</td>\n",
       "      <td>...</td>\n",
       "      <td>...</td>\n",
       "      <td>...</td>\n",
       "      <td>...</td>\n",
       "      <td>...</td>\n",
       "      <td>...</td>\n",
       "      <td>...</td>\n",
       "      <td>...</td>\n",
       "      <td>...</td>\n",
       "      <td>...</td>\n",
       "      <td>...</td>\n",
       "    </tr>\n",
       "    <tr>\n",
       "      <th>40438</th>\n",
       "      <td>106024</td>\n",
       "      <td>M06135:133:000000000-KL3C8:1:2109:8381:17112:C...</td>\n",
       "      <td>True</td>\n",
       "      <td>False</td>\n",
       "      <td>True</td>\n",
       "      <td>GLTPSGYC</td>\n",
       "      <td>IESEGST</td>\n",
       "      <td>GAECVSAPEWYPLISSYNY</td>\n",
       "      <td>EVQLLESGGGLVQPGGSLRLSCAAS</td>\n",
       "      <td>MGWFRQAPGKEREGVAA</td>\n",
       "      <td>...</td>\n",
       "      <td>WGQGTLVTVSS</td>\n",
       "      <td>EVQLLESGGGLVQPGGSLRLSCAASGLTPSGYCMGWFRQAPGKERE...</td>\n",
       "      <td>IGH</td>\n",
       "      <td>True</td>\n",
       "      <td>GLTPSGYC_IESEGST_GAECVSAPEWYPLISSYNY</td>\n",
       "      <td>1</td>\n",
       "      <td>1.0</td>\n",
       "      <td>1.0</td>\n",
       "      <td>1.000000</td>\n",
       "      <td>0.000000</td>\n",
       "    </tr>\n",
       "    <tr>\n",
       "      <th>40437</th>\n",
       "      <td>106025</td>\n",
       "      <td>M06135:133:000000000-KL3C8:1:2112:17589:5402:C...</td>\n",
       "      <td>True</td>\n",
       "      <td>False</td>\n",
       "      <td>True</td>\n",
       "      <td>GYRYSSYC</td>\n",
       "      <td>IGQHGDT</td>\n",
       "      <td>EASYGVCSLHRWTLTNDYNF</td>\n",
       "      <td>EVQLLESGGGLVQPGGSLRLSCAAS</td>\n",
       "      <td>MGWFRQAPGKEREGVAA</td>\n",
       "      <td>...</td>\n",
       "      <td>WGQGTLVTVSS</td>\n",
       "      <td>EVQLLESGGGLVQPGGSLRLSCAASGYRYSSYCMGWFRQAPGKERE...</td>\n",
       "      <td>IGH</td>\n",
       "      <td>True</td>\n",
       "      <td>GYRYSSYC_IGQHGDT_EASYGVCSLHRWTLTNDYNF</td>\n",
       "      <td>1</td>\n",
       "      <td>1.0</td>\n",
       "      <td>1.0</td>\n",
       "      <td>1.000000</td>\n",
       "      <td>0.000000</td>\n",
       "    </tr>\n",
       "    <tr>\n",
       "      <th>40436</th>\n",
       "      <td>106026</td>\n",
       "      <td>M06135:133:000000000-KL3C8:1:2109:11770:11914:...</td>\n",
       "      <td>True</td>\n",
       "      <td>False</td>\n",
       "      <td>True</td>\n",
       "      <td>GYSSSSYC</td>\n",
       "      <td>MYTGFGGGNI</td>\n",
       "      <td>AAVCPFIRPLRVATMTSPDIEY</td>\n",
       "      <td>EVQLLESGGGLVQPGGSLRLSCAAS</td>\n",
       "      <td>MGWFRQAPGKEREGVAA</td>\n",
       "      <td>...</td>\n",
       "      <td>WGQGTLVTVSS</td>\n",
       "      <td>EVQLLESGGGLVQPGGSLRLSCAASGYSSSSYCMGWFRQAPGKERE...</td>\n",
       "      <td>IGH</td>\n",
       "      <td>True</td>\n",
       "      <td>GYSSSSYC_MYTGFGGGNI_AAVCPFIRPLRVATMTSPDIEY</td>\n",
       "      <td>1</td>\n",
       "      <td>1.0</td>\n",
       "      <td>1.0</td>\n",
       "      <td>1.000000</td>\n",
       "      <td>0.000000</td>\n",
       "    </tr>\n",
       "    <tr>\n",
       "      <th>40435</th>\n",
       "      <td>106027</td>\n",
       "      <td>M06135:133:000000000-KL3C8:1:1116:20605:16384:...</td>\n",
       "      <td>True</td>\n",
       "      <td>False</td>\n",
       "      <td>True</td>\n",
       "      <td>GTFTVPLC</td>\n",
       "      <td>FESEGAS</td>\n",
       "      <td>AAGLSYGGSCLEDFGY</td>\n",
       "      <td>EVQLLESGGGLVQPGGSLRLSCAAS</td>\n",
       "      <td>MGWFRQAPGKEREWVA</td>\n",
       "      <td>...</td>\n",
       "      <td>WGQGTLVTVSS</td>\n",
       "      <td>EVQLLESGGGLVQPGGSLRLSCAASGTFTVPLCMGWFRQAPGKERE...</td>\n",
       "      <td>IGH</td>\n",
       "      <td>True</td>\n",
       "      <td>GTFTVPLC_FESEGAS_AAGLSYGGSCLEDFGY</td>\n",
       "      <td>1</td>\n",
       "      <td>1.0</td>\n",
       "      <td>1.0</td>\n",
       "      <td>1.000000</td>\n",
       "      <td>0.000000</td>\n",
       "    </tr>\n",
       "    <tr>\n",
       "      <th>109813</th>\n",
       "      <td>8068</td>\n",
       "      <td>M06135:133:000000000-KL3C8:1:1111:9101:6729:AT...</td>\n",
       "      <td>True</td>\n",
       "      <td>False</td>\n",
       "      <td>True</td>\n",
       "      <td>GYTYI</td>\n",
       "      <td>LSLTT</td>\n",
       "      <td>AANVASGLKILQ</td>\n",
       "      <td>EVQLVESGGGLVQPGGSLRLSCAAS</td>\n",
       "      <td>GWFRQAPGKEREFVAA</td>\n",
       "      <td>...</td>\n",
       "      <td>WGQGTLVTVSS</td>\n",
       "      <td>EVQLVESGGGLVQPGGSLRLSCAASGYTYIGWFRQAPGKEREFVAA...</td>\n",
       "      <td>IGH</td>\n",
       "      <td>True</td>\n",
       "      <td>GYTYI_LSLTT_AANVASGLKILQ</td>\n",
       "      <td>239</td>\n",
       "      <td>69.0</td>\n",
       "      <td>1.0</td>\n",
       "      <td>0.014493</td>\n",
       "      <td>-98.550725</td>\n",
       "    </tr>\n",
       "  </tbody>\n",
       "</table>\n",
       "<p>109814 rows × 21 columns</p>\n",
       "</div>"
      ],
      "text/plain": [
       "            ID                                             seq_id  productive  \\\n",
       "29       13038  M06135:133:000000000-KL3C8:1:1104:8342:20406:A...        True   \n",
       "162      17385  M06135:133:000000000-KL3C8:1:2111:14802:10273:...        True   \n",
       "20       15341  M06135:133:000000000-KL3C8:1:1119:5538:6057:AT...        True   \n",
       "134       7371  M06135:133:000000000-KL3C8:1:2110:7234:6388:AT...        True   \n",
       "16       15400  M06135:133:000000000-KL3C8:1:1119:12674:7378:A...        True   \n",
       "...        ...                                                ...         ...   \n",
       "40438   106024  M06135:133:000000000-KL3C8:1:2109:8381:17112:C...        True   \n",
       "40437   106025  M06135:133:000000000-KL3C8:1:2112:17589:5402:C...        True   \n",
       "40436   106026  M06135:133:000000000-KL3C8:1:2109:11770:11914:...        True   \n",
       "40435   106027  M06135:133:000000000-KL3C8:1:1116:20605:16384:...        True   \n",
       "109813    8068  M06135:133:000000000-KL3C8:1:1111:9101:6729:AT...        True   \n",
       "\n",
       "        stop_codon  vj_in_frame    cdr1_aa     cdr2_aa  \\\n",
       "29           False         True   GTTKLTFC     IESEGST   \n",
       "162          False         True   GNILSLNT     ITSGGST   \n",
       "20           False         True   GSAFSRNV    IWWTVGAP   \n",
       "134          False         True   GYSYSSYC     IESEGIA   \n",
       "16           False         True  GSIFSISVT    ISSSDGNT   \n",
       "...            ...          ...        ...         ...   \n",
       "40438        False         True   GLTPSGYC     IESEGST   \n",
       "40437        False         True   GYRYSSYC     IGQHGDT   \n",
       "40436        False         True   GYSSSSYC  MYTGFGGGNI   \n",
       "40435        False         True   GTFTVPLC     FESEGAS   \n",
       "109813       False         True      GYTYI       LSLTT   \n",
       "\n",
       "                       cdr3_aa                    fwr1_aa            fwr2_aa  \\\n",
       "29           AADLFGVACLRDFNYKY  EVQLLESGGGLVQPGGSLRLSCAAS  MGWFRQAPGKEREGIAG   \n",
       "162                AADSPGGRSYE  EVQLVESGGGLVQPGGSLRLSCAAS  MGWFRQAPGKERELVAR   \n",
       "20                     AVNVGFE  EVQLVESGGGLVQPGGSLRLSCAAS  MGWFRQAPGKEREFVAT   \n",
       "134          ALREGGYCYSLNDRMDY  EVQLLESGGGLVQPGGSLRLSCAAS  MGWFRQAPGKEREGVAA   \n",
       "16                 AGDKHQSSWYD  EVQLVESGGGLVQPGGSLRLSCAAS  MGWFRQAPGKEREGVSG   \n",
       "...                        ...                        ...                ...   \n",
       "40438      GAECVSAPEWYPLISSYNY  EVQLLESGGGLVQPGGSLRLSCAAS  MGWFRQAPGKEREGVAA   \n",
       "40437     EASYGVCSLHRWTLTNDYNF  EVQLLESGGGLVQPGGSLRLSCAAS  MGWFRQAPGKEREGVAA   \n",
       "40436   AAVCPFIRPLRVATMTSPDIEY  EVQLLESGGGLVQPGGSLRLSCAAS  MGWFRQAPGKEREGVAA   \n",
       "40435         AAGLSYGGSCLEDFGY  EVQLLESGGGLVQPGGSLRLSCAAS   MGWFRQAPGKEREWVA   \n",
       "109813            AANVASGLKILQ  EVQLVESGGGLVQPGGSLRLSCAAS   GWFRQAPGKEREFVAA   \n",
       "\n",
       "        ...      fwr4_aa                                             vdj_aa  \\\n",
       "29      ...  WGQGTLVTVSS  EVQLLESGGGLVQPGGSLRLSCAASGTTKLTFCMGWFRQAPGKERE...   \n",
       "162     ...  WGQGTLVTVSS  EVQLVESGGGLVQPGGSLRLSCAASGNILSLNTMGWFRQAPGKERE...   \n",
       "20      ...  WGQGTLVTVSS  EVQLVESGGGLVQPGGSLRLSCAASGSAFSRNVMGWFRQAPGKERE...   \n",
       "134     ...  WGQGTLVTVSS  EVQLLESGGGLVQPGGSLRLSCAASGYSYSSYCMGWFRQAPGKERE...   \n",
       "16      ...  WGQGTLVTVSS  EVQLVESGGGLVQPGGSLRLSCAASGSIFSISVTMGWFRQAPGKER...   \n",
       "...     ...          ...                                                ...   \n",
       "40438   ...  WGQGTLVTVSS  EVQLLESGGGLVQPGGSLRLSCAASGLTPSGYCMGWFRQAPGKERE...   \n",
       "40437   ...  WGQGTLVTVSS  EVQLLESGGGLVQPGGSLRLSCAASGYRYSSYCMGWFRQAPGKERE...   \n",
       "40436   ...  WGQGTLVTVSS  EVQLLESGGGLVQPGGSLRLSCAASGYSSSSYCMGWFRQAPGKERE...   \n",
       "40435   ...  WGQGTLVTVSS  EVQLLESGGGLVQPGGSLRLSCAASGTFTVPLCMGWFRQAPGKERE...   \n",
       "109813  ...  WGQGTLVTVSS  EVQLVESGGGLVQPGGSLRLSCAASGYTYIGWFRQAPGKEREFVAA...   \n",
       "\n",
       "       locus complete_vdj                                    cdr1_2_3  \\\n",
       "29       IGH         True          GTTKLTFC_IESEGST_AADLFGVACLRDFNYKY   \n",
       "162      IGH         True                GNILSLNT_ITSGGST_AADSPGGRSYE   \n",
       "20       IGH         True                   GSAFSRNV_IWWTVGAP_AVNVGFE   \n",
       "134      IGH         True          GYSYSSYC_IESEGIA_ALREGGYCYSLNDRMDY   \n",
       "16       IGH         True              GSIFSISVT_ISSSDGNT_AGDKHQSSWYD   \n",
       "...      ...          ...                                         ...   \n",
       "40438    IGH         True        GLTPSGYC_IESEGST_GAECVSAPEWYPLISSYNY   \n",
       "40437    IGH         True       GYRYSSYC_IGQHGDT_EASYGVCSLHRWTLTNDYNF   \n",
       "40436    IGH         True  GYSSSSYC_MYTGFGGGNI_AAVCPFIRPLRVATMTSPDIEY   \n",
       "40435    IGH         True           GTFTVPLC_FESEGAS_AAGLSYGGSCLEDFGY   \n",
       "109813   IGH         True                    GYTYI_LSLTT_AANVASGLKILQ   \n",
       "\n",
       "       counts_cdr3_aa  vdj_aa_counts_r4  vdj_aa_counts_r5  5_4_ratio  \\\n",
       "29                175             118.0            6286.0  53.271186   \n",
       "162               341             235.0            4848.0  20.629787   \n",
       "20                126              66.0            4143.0  62.772727   \n",
       "134               204             124.0            2972.0  23.967742   \n",
       "16                 63              37.0            2684.0  72.540541   \n",
       "...               ...               ...               ...        ...   \n",
       "40438               1               1.0               1.0   1.000000   \n",
       "40437               1               1.0               1.0   1.000000   \n",
       "40436               1               1.0               1.0   1.000000   \n",
       "40435               1               1.0               1.0   1.000000   \n",
       "109813            239              69.0               1.0   0.014493   \n",
       "\n",
       "        5_4_perc_change  \n",
       "29          5227.118644  \n",
       "162         1962.978723  \n",
       "20          6177.272727  \n",
       "134         2296.774194  \n",
       "16          7154.054054  \n",
       "...                 ...  \n",
       "40438          0.000000  \n",
       "40437          0.000000  \n",
       "40436          0.000000  \n",
       "40435          0.000000  \n",
       "109813       -98.550725  \n",
       "\n",
       "[109814 rows x 21 columns]"
      ]
     },
     "execution_count": 42,
     "metadata": {},
     "output_type": "execute_result"
    }
   ],
   "source": [
    "# name = list(uploader.value.keys())[0]\n",
    "# data = pd.read_csv(io.BytesIO(uploader.value[name]['content']))\n",
    "data = pd.read_csv(path)\n",
    "data.rename(columns = {'Unnamed: 0':\"ID\"}, inplace = True)\n",
    "data = data.sort_values(by = \"vdj_aa_counts_r5\", ascending = False)\n",
    "data"
   ]
  },
  {
   "cell_type": "code",
   "execution_count": 43,
   "id": "5806ec23",
   "metadata": {},
   "outputs": [
    {
     "data": {
      "image/png": "[encoded data removed]",
      "text/plain": [
       "<Figure size 2000x2000 with 12 Axes>"
      ]
     },
     "metadata": {},
     "output_type": "display_data"
    }
   ],
   "source": [
    "plt.style.use('seaborn')\n",
    "\n",
    "n = 12\n",
    "sort_by = \"5_4_ratio\" #\"vdj_aa_counts_r5\"\n",
    "Top10 = data.nlargest(n, sort_by)\n",
    "row, col = 3, 4\n",
    "fig, axs = plt.subplots(row, col, sharey = True, figsize = (20, 20))\n",
    "x = [\"Round 4\", \"Round 5\"]\n",
    "for i in range(n):\n",
    "    plot_data = Top10.iloc[i]\n",
    "    ax = axs[i//col][i%col]\n",
    "    y = [plot_data[\"vdj_aa_counts_r4\"], plot_data[\"vdj_aa_counts_r5\"]]\n",
    "    ax.plot(x, y, 'o', linestyle = \"--\")\n",
    "    ax.set_title(plot_data[\"ID\"])\n",
    "    #ax.set_xlabel(\"Round Number\")\n",
    "    ax.set_ylabel(\"# of counts\")\n",
    "    fig.suptitle('Top Enriched Leads from TB728', fontsize=24)"
   ]
  },
  {
   "cell_type": "code",
   "execution_count": 7,
   "id": "9914d1c0",
   "metadata": {},
   "outputs": [
    {
     "data": {
      "image/png": "[encoded data removed]",
      "text/plain": [
       "<Figure size 800x550 with 1 Axes>"
      ]
     },
     "metadata": {},
     "output_type": "display_data"
    }
   ],
   "source": [
    "for i in range(n):\n",
    "    plot_data = Top10.iloc[i]\n",
    "    plt.plot(x, [plot_data[\"vdj_aa_counts_r4\"], plot_data[\"vdj_aa_counts_r5\"]], \n",
    "             label = plot_data[\"ID\"], linestyle = \"-\", marker = \"o\")\n",
    "    plt.legend()\n",
    "    plt.ylabel(\"# of counts\")\n",
    "    plt.xlabel(\"Round Number\")\n",
    "    plt.title(\"Top Sequence Enrichment from Round 4 to Round 5\")"
   ]
  },
  {
   "cell_type": "code",
   "execution_count": 25,
   "id": "76acb68e",
   "metadata": {},
   "outputs": [
    {
     "data": {
      "application/vnd.plotly.v1+json": {
       "config": {
        "plotlyServerURL": "https://plot.ly"
       },
       "data": [
        {
         "hovertemplate": "Round Number=%{x}<br>Counts=%{y}<extra></extra>",
         "legendgroup": "",
         "line": {
          "color": "#636efa",
          "dash": "solid"
         },
         "marker": {
          "symbol": "circle"
         },
         "mode": "markers+lines",
         "name": "",
         "orientation": "v",
         "showlegend": false,
         "type": "scatter",
         "x": [
          "Round 4",
          "Round 5"
         ],
         "xaxis": "x",
         "y": [
          "vdj_aa_counts_r4",
          "vdj_aa_counts_r5"
         ],
         "yaxis": "y"
        }
       ],
       "layout": {
        "legend": {
         "tracegroupgap": 0
        },
        "margin": {
         "t": 60
        },
        "template": {
         "data": {
          "bar": [
           {
            "error_x": {
             "color": "#2a3f5f"
            },
            "error_y": {
             "color": "#2a3f5f"
            },
            "marker": {
             "line": {
              "color": "#E5ECF6",
              "width": 0.5
             },
             "pattern": {
              "fillmode": "overlay",
              "size": 10,
              "solidity": 0.2
             }
            },
            "type": "bar"
           }
          ],
          "barpolar": [
           {
            "marker": {
             "line": {
              "color": "#E5ECF6",
              "width": 0.5
             },
             "pattern": {
              "fillmode": "overlay",
              "size": 10,
              "solidity": 0.2
             }
            },
            "type": "barpolar"
           }
          ],
          "carpet": [
           {
            "aaxis": {
             "endlinecolor": "#2a3f5f",
             "gridcolor": "white",
             "linecolor": "white",
             "minorgridcolor": "white",
             "startlinecolor": "#2a3f5f"
            },
            "baxis": {
             "endlinecolor": "#2a3f5f",
             "gridcolor": "white",
             "linecolor": "white",
             "minorgridcolor": "white",
             "startlinecolor": "#2a3f5f"
            },
            "type": "carpet"
           }
          ],
          "choropleth": [
           {
            "colorbar": {
             "outlinewidth": 0,
             "ticks": ""
            },
            "type": "choropleth"
           }
          ],
          "contour": [
           {
            "colorbar": {
             "outlinewidth": 0,
             "ticks": ""
            },
            "colorscale": [
             [
              0,
              "#0d0887"
             ],
             [
              0.1111111111111111,
              "#46039f"
             ],
             [
              0.2222222222222222,
              "#7201a8"
             ],
             [
              0.3333333333333333,
              "#9c179e"
             ],
             [
              0.4444444444444444,
              "#bd3786"
             ],
             [
              0.5555555555555556,
              "#d8576b"
             ],
             [
              0.6666666666666666,
              "#ed7953"
             ],
             [
              0.7777777777777778,
              "#fb9f3a"
             ],
             [
              0.8888888888888888,
              "#fdca26"
             ],
             [
              1,
              "#f0f921"
             ]
            ],
            "type": "contour"
           }
          ],
          "contourcarpet": [
           {
            "colorbar": {
             "outlinewidth": 0,
             "ticks": ""
            },
            "type": "contourcarpet"
           }
          ],
          "heatmap": [
           {
            "colorbar": {
             "outlinewidth": 0,
             "ticks": ""
            },
            "colorscale": [
             [
              0,
              "#0d0887"
             ],
             [
              0.1111111111111111,
              "#46039f"
             ],
             [
              0.2222222222222222,
              "#7201a8"
             ],
             [
              0.3333333333333333,
              "#9c179e"
             ],
             [
              0.4444444444444444,
              "#bd3786"
             ],
             [
              0.5555555555555556,
              "#d8576b"
             ],
             [
              0.6666666666666666,
              "#ed7953"
             ],
             [
              0.7777777777777778,
              "#fb9f3a"
             ],
             [
              0.8888888888888888,
              "#fdca26"
             ],
             [
              1,
              "#f0f921"
             ]
            ],
            "type": "heatmap"
           }
          ],
          "heatmapgl": [
           {
            "colorbar": {
             "outlinewidth": 0,
             "ticks": ""
            },
            "colorscale": [
             [
              0,
              "#0d0887"
             ],
             [
              0.1111111111111111,
              "#46039f"
             ],
             [
              0.2222222222222222,
              "#7201a8"
             ],
             [
              0.3333333333333333,
              "#9c179e"
             ],
             [
              0.4444444444444444,
              "#bd3786"
             ],
             [
              0.5555555555555556,
              "#d8576b"
             ],
             [
              0.6666666666666666,
              "#ed7953"
             ],
             [
              0.7777777777777778,
              "#fb9f3a"
             ],
             [
              0.8888888888888888,
              "#fdca26"
             ],
             [
              1,
              "#f0f921"
             ]
            ],
            "type": "heatmapgl"
           }
          ],
          "histogram": [
           {
            "marker": {
             "pattern": {
              "fillmode": "overlay",
              "size": 10,
              "solidity": 0.2
             }
            },
            "type": "histogram"
           }
          ],
          "histogram2d": [
           {
            "colorbar": {
             "outlinewidth": 0,
             "ticks": ""
            },
            "colorscale": [
             [
              0,
              "#0d0887"
             ],
             [
              0.1111111111111111,
              "#46039f"
             ],
             [
              0.2222222222222222,
              "#7201a8"
             ],
             [
              0.3333333333333333,
              "#9c179e"
             ],
             [
              0.4444444444444444,
              "#bd3786"
             ],
             [
              0.5555555555555556,
              "#d8576b"
             ],
             [
              0.6666666666666666,
              "#ed7953"
             ],
             [
              0.7777777777777778,
              "#fb9f3a"
             ],
             [
              0.8888888888888888,
              "#fdca26"
             ],
             [
              1,
              "#f0f921"
             ]
            ],
            "type": "histogram2d"
           }
          ],
          "histogram2dcontour": [
           {
            "colorbar": {
             "outlinewidth": 0,
             "ticks": ""
            },
            "colorscale": [
             [
              0,
              "#0d0887"
             ],
             [
              0.1111111111111111,
              "#46039f"
             ],
             [
              0.2222222222222222,
              "#7201a8"
             ],
             [
              0.3333333333333333,
              "#9c179e"
             ],
             [
              0.4444444444444444,
              "#bd3786"
             ],
             [
              0.5555555555555556,
              "#d8576b"
             ],
             [
              0.6666666666666666,
              "#ed7953"
             ],
             [
              0.7777777777777778,
              "#fb9f3a"
             ],
             [
              0.8888888888888888,
              "#fdca26"
             ],
             [
              1,
              "#f0f921"
             ]
            ],
            "type": "histogram2dcontour"
           }
          ],
          "mesh3d": [
           {
            "colorbar": {
             "outlinewidth": 0,
             "ticks": ""
            },
            "type": "mesh3d"
           }
          ],
          "parcoords": [
           {
            "line": {
             "colorbar": {
              "outlinewidth": 0,
              "ticks": ""
             }
            },
            "type": "parcoords"
           }
          ],
          "pie": [
           {
            "automargin": true,
            "type": "pie"
           }
          ],
          "scatter": [
           {
            "fillpattern": {
             "fillmode": "overlay",
             "size": 10,
             "solidity": 0.2
            },
            "type": "scatter"
           }
          ],
          "scatter3d": [
           {
            "line": {
             "colorbar": {
              "outlinewidth": 0,
              "ticks": ""
             }
            },
            "marker": {
             "colorbar": {
              "outlinewidth": 0,
              "ticks": ""
             }
            },
            "type": "scatter3d"
           }
          ],
          "scattercarpet": [
           {
            "marker": {
             "colorbar": {
              "outlinewidth": 0,
              "ticks": ""
             }
            },
            "type": "scattercarpet"
           }
          ],
          "scattergeo": [
           {
            "marker": {
             "colorbar": {
              "outlinewidth": 0,
              "ticks": ""
             }
            },
            "type": "scattergeo"
           }
          ],
          "scattergl": [
           {
            "marker": {
             "colorbar": {
              "outlinewidth": 0,
              "ticks": ""
             }
            },
            "type": "scattergl"
           }
          ],
          "scattermapbox": [
           {
            "marker": {
             "colorbar": {
              "outlinewidth": 0,
              "ticks": ""
             }
            },
            "type": "scattermapbox"
           }
          ],
          "scatterpolar": [
           {
            "marker": {
             "colorbar": {
              "outlinewidth": 0,
              "ticks": ""
             }
            },
            "type": "scatterpolar"
           }
          ],
          "scatterpolargl": [
           {
            "marker": {
             "colorbar": {
              "outlinewidth": 0,
              "ticks": ""
             }
            },
            "type": "scatterpolargl"
           }
          ],
          "scatterternary": [
           {
            "marker": {
             "colorbar": {
              "outlinewidth": 0,
              "ticks": ""
             }
            },
            "type": "scatterternary"
           }
          ],
          "surface": [
           {
            "colorbar": {
             "outlinewidth": 0,
             "ticks": ""
            },
            "colorscale": [
             [
              0,
              "#0d0887"
             ],
             [
              0.1111111111111111,
              "#46039f"
             ],
             [
              0.2222222222222222,
              "#7201a8"
             ],
             [
              0.3333333333333333,
              "#9c179e"
             ],
             [
              0.4444444444444444,
              "#bd3786"
             ],
             [
              0.5555555555555556,
              "#d8576b"
             ],
             [
              0.6666666666666666,
              "#ed7953"
             ],
             [
              0.7777777777777778,
              "#fb9f3a"
             ],
             [
              0.8888888888888888,
              "#fdca26"
             ],
             [
              1,
              "#f0f921"
             ]
            ],
            "type": "surface"
           }
          ],
          "table": [
           {
            "cells": {
             "fill": {
              "color": "#EBF0F8"
             },
             "line": {
              "color": "white"
             }
            },
            "header": {
             "fill": {
              "color": "#C8D4E3"
             },
             "line": {
              "color": "white"
             }
            },
            "type": "table"
           }
          ]
         },
         "layout": {
          "annotationdefaults": {
           "arrowcolor": "#2a3f5f",
           "arrowhead": 0,
           "arrowwidth": 1
          },
          "autotypenumbers": "strict",
          "coloraxis": {
           "colorbar": {
            "outlinewidth": 0,
            "ticks": ""
           }
          },
          "colorscale": {
           "diverging": [
            [
             0,
             "#8e0152"
            ],
            [
             0.1,
             "#c51b7d"
            ],
            [
             0.2,
             "#de77ae"
            ],
            [
             0.3,
             "#f1b6da"
            ],
            [
             0.4,
             "#fde0ef"
            ],
            [
             0.5,
             "#f7f7f7"
            ],
            [
             0.6,
             "#e6f5d0"
            ],
            [
             0.7,
             "#b8e186"
            ],
            [
             0.8,
             "#7fbc41"
            ],
            [
             0.9,
             "#4d9221"
            ],
            [
             1,
             "#276419"
            ]
           ],
           "sequential": [
            [
             0,
             "#0d0887"
            ],
            [
             0.1111111111111111,
             "#46039f"
            ],
            [
             0.2222222222222222,
             "#7201a8"
            ],
            [
             0.3333333333333333,
             "#9c179e"
            ],
            [
             0.4444444444444444,
             "#bd3786"
            ],
            [
             0.5555555555555556,
             "#d8576b"
            ],
            [
             0.6666666666666666,
             "#ed7953"
            ],
            [
             0.7777777777777778,
             "#fb9f3a"
            ],
            [
             0.8888888888888888,
             "#fdca26"
            ],
            [
             1,
             "#f0f921"
            ]
           ],
           "sequentialminus": [
            [
             0,
             "#0d0887"
            ],
            [
             0.1111111111111111,
             "#46039f"
            ],
            [
             0.2222222222222222,
             "#7201a8"
            ],
            [
             0.3333333333333333,
             "#9c179e"
            ],
            [
             0.4444444444444444,
             "#bd3786"
            ],
            [
             0.5555555555555556,
             "#d8576b"
            ],
            [
             0.6666666666666666,
             "#ed7953"
            ],
            [
             0.7777777777777778,
             "#fb9f3a"
            ],
            [
             0.8888888888888888,
             "#fdca26"
            ],
            [
             1,
             "#f0f921"
            ]
           ]
          },
          "colorway": [
           "#636efa",
           "#EF553B",
           "#00cc96",
           "#ab63fa",
           "#FFA15A",
           "#19d3f3",
           "#FF6692",
           "#B6E880",
           "#FF97FF",
           "#FECB52"
          ],
          "font": {
           "color": "#2a3f5f"
          },
          "geo": {
           "bgcolor": "white",
           "lakecolor": "white",
           "landcolor": "#E5ECF6",
           "showlakes": true,
           "showland": true,
           "subunitcolor": "white"
          },
          "hoverlabel": {
           "align": "left"
          },
          "hovermode": "closest",
          "mapbox": {
           "style": "light"
          },
          "paper_bgcolor": "white",
          "plot_bgcolor": "#E5ECF6",
          "polar": {
           "angularaxis": {
            "gridcolor": "white",
            "linecolor": "white",
            "ticks": ""
           },
           "bgcolor": "#E5ECF6",
           "radialaxis": {
            "gridcolor": "white",
            "linecolor": "white",
            "ticks": ""
           }
          },
          "scene": {
           "xaxis": {
            "backgroundcolor": "#E5ECF6",
            "gridcolor": "white",
            "gridwidth": 2,
            "linecolor": "white",
            "showbackground": true,
            "ticks": "",
            "zerolinecolor": "white"
           },
           "yaxis": {
            "backgroundcolor": "#E5ECF6",
            "gridcolor": "white",
            "gridwidth": 2,
            "linecolor": "white",
            "showbackground": true,
            "ticks": "",
            "zerolinecolor": "white"
           },
           "zaxis": {
            "backgroundcolor": "#E5ECF6",
            "gridcolor": "white",
            "gridwidth": 2,
            "linecolor": "white",
            "showbackground": true,
            "ticks": "",
            "zerolinecolor": "white"
           }
          },
          "shapedefaults": {
           "line": {
            "color": "#2a3f5f"
           }
          },
          "ternary": {
           "aaxis": {
            "gridcolor": "white",
            "linecolor": "white",
            "ticks": ""
           },
           "baxis": {
            "gridcolor": "white",
            "linecolor": "white",
            "ticks": ""
           },
           "bgcolor": "#E5ECF6",
           "caxis": {
            "gridcolor": "white",
            "linecolor": "white",
            "ticks": ""
           }
          },
          "title": {
           "x": 0.05
          },
          "xaxis": {
           "automargin": true,
           "gridcolor": "white",
           "linecolor": "white",
           "ticks": "",
           "title": {
            "standoff": 15
           },
           "zerolinecolor": "white",
           "zerolinewidth": 2
          },
          "yaxis": {
           "automargin": true,
           "gridcolor": "white",
           "linecolor": "white",
           "ticks": "",
           "title": {
            "standoff": 15
           },
           "zerolinecolor": "white",
           "zerolinewidth": 2
          }
         }
        },
        "xaxis": {
         "anchor": "y",
         "domain": [
          0,
          1
         ],
         "title": {
          "text": "Round Number"
         }
        },
        "yaxis": {
         "anchor": "x",
         "domain": [
          0,
          1
         ],
         "title": {
          "text": "Counts"
         }
        }
       }
      },
      "text/html": [
       "<div>                            <div id=\"f4020fa4-1224-4da2-938e-438ed1b6b3d3\" class=\"plotly-graph-div\" style=\"height:525px; width:100%;\"></div>            <script type=\"text/javascript\">                require([\"plotly\"], function(Plotly) {                    window.PLOTLYENV=window.PLOTLYENV || {};                                    if (document.getElementById(\"f4020fa4-1224-4da2-938e-438ed1b6b3d3\")) {                    Plotly.newPlot(                        \"f4020fa4-1224-4da2-938e-438ed1b6b3d3\",                        [{\"hovertemplate\":\"Round Number=%{x}<br>Counts=%{y}<extra></extra>\",\"legendgroup\":\"\",\"line\":{\"color\":\"#636efa\",\"dash\":\"solid\"},\"marker\":{\"symbol\":\"circle\"},\"mode\":\"markers+lines\",\"name\":\"\",\"orientation\":\"v\",\"showlegend\":false,\"x\":[\"Round 4\",\"Round 5\"],\"xaxis\":\"x\",\"y\":[\"vdj_aa_counts_r4\",\"vdj_aa_counts_r5\"],\"yaxis\":\"y\",\"type\":\"scatter\"}],                        {\"template\":{\"data\":{\"histogram2dcontour\":[{\"type\":\"histogram2dcontour\",\"colorbar\":{\"outlinewidth\":0,\"ticks\":\"\"},\"colorscale\":[[0.0,\"#0d0887\"],[0.1111111111111111,\"#46039f\"],[0.2222222222222222,\"#7201a8\"],[0.3333333333333333,\"#9c179e\"],[0.4444444444444444,\"#bd3786\"],[0.5555555555555556,\"#d8576b\"],[0.6666666666666666,\"#ed7953\"],[0.7777777777777778,\"#fb9f3a\"],[0.8888888888888888,\"#fdca26\"],[1.0,\"#f0f921\"]]}],\"choropleth\":[{\"type\":\"choropleth\",\"colorbar\":{\"outlinewidth\":0,\"ticks\":\"\"}}],\"histogram2d\":[{\"type\":\"histogram2d\",\"colorbar\":{\"outlinewidth\":0,\"ticks\":\"\"},\"colorscale\":[[0.0,\"#0d0887\"],[0.1111111111111111,\"#46039f\"],[0.2222222222222222,\"#7201a8\"],[0.3333333333333333,\"#9c179e\"],[0.4444444444444444,\"#bd3786\"],[0.5555555555555556,\"#d8576b\"],[0.6666666666666666,\"#ed7953\"],[0.7777777777777778,\"#fb9f3a\"],[0.8888888888888888,\"#fdca26\"],[1.0,\"#f0f921\"]]}],\"heatmap\":[{\"type\":\"heatmap\",\"colorbar\":{\"outlinewidth\":0,\"ticks\":\"\"},\"colorscale\":[[0.0,\"#0d0887\"],[0.1111111111111111,\"#46039f\"],[0.2222222222222222,\"#7201a8\"],[0.3333333333333333,\"#9c179e\"],[0.4444444444444444,\"#bd3786\"],[0.5555555555555556,\"#d8576b\"],[0.6666666666666666,\"#ed7953\"],[0.7777777777777778,\"#fb9f3a\"],[0.8888888888888888,\"#fdca26\"],[1.0,\"#f0f921\"]]}],\"heatmapgl\":[{\"type\":\"heatmapgl\",\"colorbar\":{\"outlinewidth\":0,\"ticks\":\"\"},\"colorscale\":[[0.0,\"#0d0887\"],[0.1111111111111111,\"#46039f\"],[0.2222222222222222,\"#7201a8\"],[0.3333333333333333,\"#9c179e\"],[0.4444444444444444,\"#bd3786\"],[0.5555555555555556,\"#d8576b\"],[0.6666666666666666,\"#ed7953\"],[0.7777777777777778,\"#fb9f3a\"],[0.8888888888888888,\"#fdca26\"],[1.0,\"#f0f921\"]]}],\"contourcarpet\":[{\"type\":\"contourcarpet\",\"colorbar\":{\"outlinewidth\":0,\"ticks\":\"\"}}],\"contour\":[{\"type\":\"contour\",\"colorbar\":{\"outlinewidth\":0,\"ticks\":\"\"},\"colorscale\":[[0.0,\"#0d0887\"],[0.1111111111111111,\"#46039f\"],[0.2222222222222222,\"#7201a8\"],[0.3333333333333333,\"#9c179e\"],[0.4444444444444444,\"#bd3786\"],[0.5555555555555556,\"#d8576b\"],[0.6666666666666666,\"#ed7953\"],[0.7777777777777778,\"#fb9f3a\"],[0.8888888888888888,\"#fdca26\"],[1.0,\"#f0f921\"]]}],\"surface\":[{\"type\":\"surface\",\"colorbar\":{\"outlinewidth\":0,\"ticks\":\"\"},\"colorscale\":[[0.0,\"#0d0887\"],[0.1111111111111111,\"#46039f\"],[0.2222222222222222,\"#7201a8\"],[0.3333333333333333,\"#9c179e\"],[0.4444444444444444,\"#bd3786\"],[0.5555555555555556,\"#d8576b\"],[0.6666666666666666,\"#ed7953\"],[0.7777777777777778,\"#fb9f3a\"],[0.8888888888888888,\"#fdca26\"],[1.0,\"#f0f921\"]]}],\"mesh3d\":[{\"type\":\"mesh3d\",\"colorbar\":{\"outlinewidth\":0,\"ticks\":\"\"}}],\"scatter\":[{\"fillpattern\":{\"fillmode\":\"overlay\",\"size\":10,\"solidity\":0.2},\"type\":\"scatter\"}],\"parcoords\":[{\"type\":\"parcoords\",\"line\":{\"colorbar\":{\"outlinewidth\":0,\"ticks\":\"\"}}}],\"scatterpolargl\":[{\"type\":\"scatterpolargl\",\"marker\":{\"colorbar\":{\"outlinewidth\":0,\"ticks\":\"\"}}}],\"bar\":[{\"error_x\":{\"color\":\"#2a3f5f\"},\"error_y\":{\"color\":\"#2a3f5f\"},\"marker\":{\"line\":{\"color\":\"#E5ECF6\",\"width\":0.5},\"pattern\":{\"fillmode\":\"overlay\",\"size\":10,\"solidity\":0.2}},\"type\":\"bar\"}],\"scattergeo\":[{\"type\":\"scattergeo\",\"marker\":{\"colorbar\":{\"outlinewidth\":0,\"ticks\":\"\"}}}],\"scatterpolar\":[{\"type\":\"scatterpolar\",\"marker\":{\"colorbar\":{\"outlinewidth\":0,\"ticks\":\"\"}}}],\"histogram\":[{\"marker\":{\"pattern\":{\"fillmode\":\"overlay\",\"size\":10,\"solidity\":0.2}},\"type\":\"histogram\"}],\"scattergl\":[{\"type\":\"scattergl\",\"marker\":{\"colorbar\":{\"outlinewidth\":0,\"ticks\":\"\"}}}],\"scatter3d\":[{\"type\":\"scatter3d\",\"line\":{\"colorbar\":{\"outlinewidth\":0,\"ticks\":\"\"}},\"marker\":{\"colorbar\":{\"outlinewidth\":0,\"ticks\":\"\"}}}],\"scattermapbox\":[{\"type\":\"scattermapbox\",\"marker\":{\"colorbar\":{\"outlinewidth\":0,\"ticks\":\"\"}}}],\"scatterternary\":[{\"type\":\"scatterternary\",\"marker\":{\"colorbar\":{\"outlinewidth\":0,\"ticks\":\"\"}}}],\"scattercarpet\":[{\"type\":\"scattercarpet\",\"marker\":{\"colorbar\":{\"outlinewidth\":0,\"ticks\":\"\"}}}],\"carpet\":[{\"aaxis\":{\"endlinecolor\":\"#2a3f5f\",\"gridcolor\":\"white\",\"linecolor\":\"white\",\"minorgridcolor\":\"white\",\"startlinecolor\":\"#2a3f5f\"},\"baxis\":{\"endlinecolor\":\"#2a3f5f\",\"gridcolor\":\"white\",\"linecolor\":\"white\",\"minorgridcolor\":\"white\",\"startlinecolor\":\"#2a3f5f\"},\"type\":\"carpet\"}],\"table\":[{\"cells\":{\"fill\":{\"color\":\"#EBF0F8\"},\"line\":{\"color\":\"white\"}},\"header\":{\"fill\":{\"color\":\"#C8D4E3\"},\"line\":{\"color\":\"white\"}},\"type\":\"table\"}],\"barpolar\":[{\"marker\":{\"line\":{\"color\":\"#E5ECF6\",\"width\":0.5},\"pattern\":{\"fillmode\":\"overlay\",\"size\":10,\"solidity\":0.2}},\"type\":\"barpolar\"}],\"pie\":[{\"automargin\":true,\"type\":\"pie\"}]},\"layout\":{\"autotypenumbers\":\"strict\",\"colorway\":[\"#636efa\",\"#EF553B\",\"#00cc96\",\"#ab63fa\",\"#FFA15A\",\"#19d3f3\",\"#FF6692\",\"#B6E880\",\"#FF97FF\",\"#FECB52\"],\"font\":{\"color\":\"#2a3f5f\"},\"hovermode\":\"closest\",\"hoverlabel\":{\"align\":\"left\"},\"paper_bgcolor\":\"white\",\"plot_bgcolor\":\"#E5ECF6\",\"polar\":{\"bgcolor\":\"#E5ECF6\",\"angularaxis\":{\"gridcolor\":\"white\",\"linecolor\":\"white\",\"ticks\":\"\"},\"radialaxis\":{\"gridcolor\":\"white\",\"linecolor\":\"white\",\"ticks\":\"\"}},\"ternary\":{\"bgcolor\":\"#E5ECF6\",\"aaxis\":{\"gridcolor\":\"white\",\"linecolor\":\"white\",\"ticks\":\"\"},\"baxis\":{\"gridcolor\":\"white\",\"linecolor\":\"white\",\"ticks\":\"\"},\"caxis\":{\"gridcolor\":\"white\",\"linecolor\":\"white\",\"ticks\":\"\"}},\"coloraxis\":{\"colorbar\":{\"outlinewidth\":0,\"ticks\":\"\"}},\"colorscale\":{\"sequential\":[[0.0,\"#0d0887\"],[0.1111111111111111,\"#46039f\"],[0.2222222222222222,\"#7201a8\"],[0.3333333333333333,\"#9c179e\"],[0.4444444444444444,\"#bd3786\"],[0.5555555555555556,\"#d8576b\"],[0.6666666666666666,\"#ed7953\"],[0.7777777777777778,\"#fb9f3a\"],[0.8888888888888888,\"#fdca26\"],[1.0,\"#f0f921\"]],\"sequentialminus\":[[0.0,\"#0d0887\"],[0.1111111111111111,\"#46039f\"],[0.2222222222222222,\"#7201a8\"],[0.3333333333333333,\"#9c179e\"],[0.4444444444444444,\"#bd3786\"],[0.5555555555555556,\"#d8576b\"],[0.6666666666666666,\"#ed7953\"],[0.7777777777777778,\"#fb9f3a\"],[0.8888888888888888,\"#fdca26\"],[1.0,\"#f0f921\"]],\"diverging\":[[0,\"#8e0152\"],[0.1,\"#c51b7d\"],[0.2,\"#de77ae\"],[0.3,\"#f1b6da\"],[0.4,\"#fde0ef\"],[0.5,\"#f7f7f7\"],[0.6,\"#e6f5d0\"],[0.7,\"#b8e186\"],[0.8,\"#7fbc41\"],[0.9,\"#4d9221\"],[1,\"#276419\"]]},\"xaxis\":{\"gridcolor\":\"white\",\"linecolor\":\"white\",\"ticks\":\"\",\"title\":{\"standoff\":15},\"zerolinecolor\":\"white\",\"automargin\":true,\"zerolinewidth\":2},\"yaxis\":{\"gridcolor\":\"white\",\"linecolor\":\"white\",\"ticks\":\"\",\"title\":{\"standoff\":15},\"zerolinecolor\":\"white\",\"automargin\":true,\"zerolinewidth\":2},\"scene\":{\"xaxis\":{\"backgroundcolor\":\"#E5ECF6\",\"gridcolor\":\"white\",\"linecolor\":\"white\",\"showbackground\":true,\"ticks\":\"\",\"zerolinecolor\":\"white\",\"gridwidth\":2},\"yaxis\":{\"backgroundcolor\":\"#E5ECF6\",\"gridcolor\":\"white\",\"linecolor\":\"white\",\"showbackground\":true,\"ticks\":\"\",\"zerolinecolor\":\"white\",\"gridwidth\":2},\"zaxis\":{\"backgroundcolor\":\"#E5ECF6\",\"gridcolor\":\"white\",\"linecolor\":\"white\",\"showbackground\":true,\"ticks\":\"\",\"zerolinecolor\":\"white\",\"gridwidth\":2}},\"shapedefaults\":{\"line\":{\"color\":\"#2a3f5f\"}},\"annotationdefaults\":{\"arrowcolor\":\"#2a3f5f\",\"arrowhead\":0,\"arrowwidth\":1},\"geo\":{\"bgcolor\":\"white\",\"landcolor\":\"#E5ECF6\",\"subunitcolor\":\"white\",\"showland\":true,\"showlakes\":true,\"lakecolor\":\"white\"},\"title\":{\"x\":0.05},\"mapbox\":{\"style\":\"light\"}}},\"xaxis\":{\"anchor\":\"y\",\"domain\":[0.0,1.0],\"title\":{\"text\":\"Round Number\"}},\"yaxis\":{\"anchor\":\"x\",\"domain\":[0.0,1.0],\"title\":{\"text\":\"Counts\"}},\"legend\":{\"tracegroupgap\":0},\"margin\":{\"t\":60}},                        {\"responsive\": true}                    ).then(function(){\n",
       "                            \n",
       "var gd = document.getElementById('f4020fa4-1224-4da2-938e-438ed1b6b3d3');\n",
       "var x = new MutationObserver(function (mutations, observer) {{\n",
       "        var display = window.getComputedStyle(gd).display;\n",
       "        if (!display || display === 'none') {{\n",
       "            console.log([gd, 'removed!']);\n",
       "            Plotly.purge(gd);\n",
       "            observer.disconnect();\n",
       "        }}\n",
       "}});\n",
       "\n",
       "// Listen for the removal of the full notebook cells\n",
       "var notebookContainer = gd.closest('#notebook-container');\n",
       "if (notebookContainer) {{\n",
       "    x.observe(notebookContainer, {childList: true});\n",
       "}}\n",
       "\n",
       "// Listen for the clearing of the current output cell\n",
       "var outputEl = gd.closest('.output');\n",
       "if (outputEl) {{\n",
       "    x.observe(outputEl, {childList: true});\n",
       "}}\n",
       "\n",
       "                        })                };                });            </script>        </div>"
      ]
     },
     "metadata": {},
     "output_type": "display_data"
    }
   ],
   "source": [
    "import plotly.express as px\n",
    "plot_data = Top10[[\"ID\", \"vdj_aa_counts_r4\", \"vdj_aa_counts_r5\"]]\n",
    "fig = px.line(plot_data.iloc[0], x = [\"Round 4\", \"Round 5\"], y = [\"vdj_aa_counts_r4\", \"vdj_aa_counts_r5\"], markers =True, \n",
    "        labels=dict(x=\"Round Number\", y = \"Counts\"))\n",
    "fig.show()"
   ]
  },
  {
   "cell_type": "code",
   "execution_count": 9,
   "id": "1e1073fb",
   "metadata": {},
   "outputs": [
    {
     "data": {
      "application/vnd.plotly.v1+json": {
       "config": {
        "plotlyServerURL": "https://plot.ly"
       },
       "data": [
        {
         "hovertemplate": "ID=%{marker.color}<br>vdj_aa_counts_r4=%{x}<br>vdj_aa_counts_r5=%{y}<extra></extra>",
         "legendgroup": "13038",
         "marker": {
          "color": [
           13038
          ],
          "coloraxis": "coloraxis",
          "symbol": "circle"
         },
         "mode": "markers",
         "name": "13038",
         "orientation": "v",
         "showlegend": true,
         "type": "scatter",
         "x": [
          118
         ],
         "xaxis": "x",
         "y": [
          6286
         ],
         "yaxis": "y"
        },
        {
         "hovertemplate": "ID=%{marker.color}<br>vdj_aa_counts_r4=%{x}<br>vdj_aa_counts_r5=%{y}<extra></extra>",
         "legendgroup": "17385",
         "marker": {
          "color": [
           17385
          ],
          "coloraxis": "coloraxis",
          "symbol": "diamond"
         },
         "mode": "markers",
         "name": "17385",
         "orientation": "v",
         "showlegend": true,
         "type": "scatter",
         "x": [
          235
         ],
         "xaxis": "x",
         "y": [
          4848
         ],
         "yaxis": "y"
        },
        {
         "hovertemplate": "ID=%{marker.color}<br>vdj_aa_counts_r4=%{x}<br>vdj_aa_counts_r5=%{y}<extra></extra>",
         "legendgroup": "15341",
         "marker": {
          "color": [
           15341
          ],
          "coloraxis": "coloraxis",
          "symbol": "square"
         },
         "mode": "markers",
         "name": "15341",
         "orientation": "v",
         "showlegend": true,
         "type": "scatter",
         "x": [
          66
         ],
         "xaxis": "x",
         "y": [
          4143
         ],
         "yaxis": "y"
        },
        {
         "hovertemplate": "ID=%{marker.color}<br>vdj_aa_counts_r4=%{x}<br>vdj_aa_counts_r5=%{y}<extra></extra>",
         "legendgroup": "7371",
         "marker": {
          "color": [
           7371
          ],
          "coloraxis": "coloraxis",
          "symbol": "x"
         },
         "mode": "markers",
         "name": "7371",
         "orientation": "v",
         "showlegend": true,
         "type": "scatter",
         "x": [
          124
         ],
         "xaxis": "x",
         "y": [
          2972
         ],
         "yaxis": "y"
        },
        {
         "hovertemplate": "ID=%{marker.color}<br>vdj_aa_counts_r4=%{x}<br>vdj_aa_counts_r5=%{y}<extra></extra>",
         "legendgroup": "15400",
         "marker": {
          "color": [
           15400
          ],
          "coloraxis": "coloraxis",
          "symbol": "cross"
         },
         "mode": "markers",
         "name": "15400",
         "orientation": "v",
         "showlegend": true,
         "type": "scatter",
         "x": [
          37
         ],
         "xaxis": "x",
         "y": [
          2684
         ],
         "yaxis": "y"
        },
        {
         "hovertemplate": "ID=%{marker.color}<br>vdj_aa_counts_r4=%{x}<br>vdj_aa_counts_r5=%{y}<extra></extra>",
         "legendgroup": "2324",
         "marker": {
          "color": [
           2324
          ],
          "coloraxis": "coloraxis",
          "symbol": "circle"
         },
         "mode": "markers",
         "name": "2324",
         "orientation": "v",
         "showlegend": true,
         "type": "scatter",
         "x": [
          134
         ],
         "xaxis": "x",
         "y": [
          2166
         ],
         "yaxis": "y"
        },
        {
         "hovertemplate": "ID=%{marker.color}<br>vdj_aa_counts_r4=%{x}<br>vdj_aa_counts_r5=%{y}<extra></extra>",
         "legendgroup": "21439",
         "marker": {
          "color": [
           21439
          ],
          "coloraxis": "coloraxis",
          "symbol": "diamond"
         },
         "mode": "markers",
         "name": "21439",
         "orientation": "v",
         "showlegend": true,
         "type": "scatter",
         "x": [
          26
         ],
         "xaxis": "x",
         "y": [
          2080
         ],
         "yaxis": "y"
        },
        {
         "hovertemplate": "ID=%{marker.color}<br>vdj_aa_counts_r4=%{x}<br>vdj_aa_counts_r5=%{y}<extra></extra>",
         "legendgroup": "17209",
         "marker": {
          "color": [
           17209
          ],
          "coloraxis": "coloraxis",
          "symbol": "square"
         },
         "mode": "markers",
         "name": "17209",
         "orientation": "v",
         "showlegend": true,
         "type": "scatter",
         "x": [
          47
         ],
         "xaxis": "x",
         "y": [
          2008
         ],
         "yaxis": "y"
        },
        {
         "hovertemplate": "ID=%{marker.color}<br>vdj_aa_counts_r4=%{x}<br>vdj_aa_counts_r5=%{y}<extra></extra>",
         "legendgroup": "21646",
         "marker": {
          "color": [
           21646
          ],
          "coloraxis": "coloraxis",
          "symbol": "x"
         },
         "mode": "markers",
         "name": "21646",
         "orientation": "v",
         "showlegend": true,
         "type": "scatter",
         "x": [
          41
         ],
         "xaxis": "x",
         "y": [
          1766
         ],
         "yaxis": "y"
        },
        {
         "hovertemplate": "ID=%{marker.color}<br>vdj_aa_counts_r4=%{x}<br>vdj_aa_counts_r5=%{y}<extra></extra>",
         "legendgroup": "2255",
         "marker": {
          "color": [
           2255
          ],
          "coloraxis": "coloraxis",
          "symbol": "cross"
         },
         "mode": "markers",
         "name": "2255",
         "orientation": "v",
         "showlegend": true,
         "type": "scatter",
         "x": [
          30
         ],
         "xaxis": "x",
         "y": [
          1644
         ],
         "yaxis": "y"
        },
        {
         "hovertemplate": "ID=%{marker.color}<br>vdj_aa_counts_r4=%{x}<br>vdj_aa_counts_r5=%{y}<extra></extra>",
         "legendgroup": "26951",
         "marker": {
          "color": [
           26951
          ],
          "coloraxis": "coloraxis",
          "symbol": "circle"
         },
         "mode": "markers",
         "name": "26951",
         "orientation": "v",
         "showlegend": true,
         "type": "scatter",
         "x": [
          29
         ],
         "xaxis": "x",
         "y": [
          1529
         ],
         "yaxis": "y"
        },
        {
         "hovertemplate": "ID=%{marker.color}<br>vdj_aa_counts_r4=%{x}<br>vdj_aa_counts_r5=%{y}<extra></extra>",
         "legendgroup": "25128",
         "marker": {
          "color": [
           25128
          ],
          "coloraxis": "coloraxis",
          "symbol": "diamond"
         },
         "mode": "markers",
         "name": "25128",
         "orientation": "v",
         "showlegend": true,
         "type": "scatter",
         "x": [
          32
         ],
         "xaxis": "x",
         "y": [
          1463
         ],
         "yaxis": "y"
        }
       ],
       "layout": {
        "coloraxis": {
         "colorbar": {
          "title": {
           "text": "ID"
          }
         },
         "colorscale": [
          [
           0,
           "#0d0887"
          ],
          [
           0.1111111111111111,
           "#46039f"
          ],
          [
           0.2222222222222222,
           "#7201a8"
          ],
          [
           0.3333333333333333,
           "#9c179e"
          ],
          [
           0.4444444444444444,
           "#bd3786"
          ],
          [
           0.5555555555555556,
           "#d8576b"
          ],
          [
           0.6666666666666666,
           "#ed7953"
          ],
          [
           0.7777777777777778,
           "#fb9f3a"
          ],
          [
           0.8888888888888888,
           "#fdca26"
          ],
          [
           1,
           "#f0f921"
          ]
         ],
         "showscale": false
        },
        "legend": {
         "title": {
          "text": "ID"
         },
         "tracegroupgap": 0
        },
        "margin": {
         "t": 60
        },
        "template": {
         "data": {
          "bar": [
           {
            "error_x": {
             "color": "#2a3f5f"
            },
            "error_y": {
             "color": "#2a3f5f"
            },
            "marker": {
             "line": {
              "color": "#E5ECF6",
              "width": 0.5
             },
             "pattern": {
              "fillmode": "overlay",
              "size": 10,
              "solidity": 0.2
             }
            },
            "type": "bar"
           }
          ],
          "barpolar": [
           {
            "marker": {
             "line": {
              "color": "#E5ECF6",
              "width": 0.5
             },
             "pattern": {
              "fillmode": "overlay",
              "size": 10,
              "solidity": 0.2
             }
            },
            "type": "barpolar"
           }
          ],
          "carpet": [
           {
            "aaxis": {
             "endlinecolor": "#2a3f5f",
             "gridcolor": "white",
             "linecolor": "white",
             "minorgridcolor": "white",
             "startlinecolor": "#2a3f5f"
            },
            "baxis": {
             "endlinecolor": "#2a3f5f",
             "gridcolor": "white",
             "linecolor": "white",
             "minorgridcolor": "white",
             "startlinecolor": "#2a3f5f"
            },
            "type": "carpet"
           }
          ],
          "choropleth": [
           {
            "colorbar": {
             "outlinewidth": 0,
             "ticks": ""
            },
            "type": "choropleth"
           }
          ],
          "contour": [
           {
            "colorbar": {
             "outlinewidth": 0,
             "ticks": ""
            },
            "colorscale": [
             [
              0,
              "#0d0887"
             ],
             [
              0.1111111111111111,
              "#46039f"
             ],
             [
              0.2222222222222222,
              "#7201a8"
             ],
             [
              0.3333333333333333,
              "#9c179e"
             ],
             [
              0.4444444444444444,
              "#bd3786"
             ],
             [
              0.5555555555555556,
              "#d8576b"
             ],
             [
              0.6666666666666666,
              "#ed7953"
             ],
             [
              0.7777777777777778,
              "#fb9f3a"
             ],
             [
              0.8888888888888888,
              "#fdca26"
             ],
             [
              1,
              "#f0f921"
             ]
            ],
            "type": "contour"
           }
          ],
          "contourcarpet": [
           {
            "colorbar": {
             "outlinewidth": 0,
             "ticks": ""
            },
            "type": "contourcarpet"
           }
          ],
          "heatmap": [
           {
            "colorbar": {
             "outlinewidth": 0,
             "ticks": ""
            },
            "colorscale": [
             [
              0,
              "#0d0887"
             ],
             [
              0.1111111111111111,
              "#46039f"
             ],
             [
              0.2222222222222222,
              "#7201a8"
             ],
             [
              0.3333333333333333,
              "#9c179e"
             ],
             [
              0.4444444444444444,
              "#bd3786"
             ],
             [
              0.5555555555555556,
              "#d8576b"
             ],
             [
              0.6666666666666666,
              "#ed7953"
             ],
             [
              0.7777777777777778,
              "#fb9f3a"
             ],
             [
              0.8888888888888888,
              "#fdca26"
             ],
             [
              1,
              "#f0f921"
             ]
            ],
            "type": "heatmap"
           }
          ],
          "heatmapgl": [
           {
            "colorbar": {
             "outlinewidth": 0,
             "ticks": ""
            },
            "colorscale": [
             [
              0,
              "#0d0887"
             ],
             [
              0.1111111111111111,
              "#46039f"
             ],
             [
              0.2222222222222222,
              "#7201a8"
             ],
             [
              0.3333333333333333,
              "#9c179e"
             ],
             [
              0.4444444444444444,
              "#bd3786"
             ],
             [
              0.5555555555555556,
              "#d8576b"
             ],
             [
              0.6666666666666666,
              "#ed7953"
             ],
             [
              0.7777777777777778,
              "#fb9f3a"
             ],
             [
              0.8888888888888888,
              "#fdca26"
             ],
             [
              1,
              "#f0f921"
             ]
            ],
            "type": "heatmapgl"
           }
          ],
          "histogram": [
           {
            "marker": {
             "pattern": {
              "fillmode": "overlay",
              "size": 10,
              "solidity": 0.2
             }
            },
            "type": "histogram"
           }
          ],
          "histogram2d": [
           {
            "colorbar": {
             "outlinewidth": 0,
             "ticks": ""
            },
            "colorscale": [
             [
              0,
              "#0d0887"
             ],
             [
              0.1111111111111111,
              "#46039f"
             ],
             [
              0.2222222222222222,
              "#7201a8"
             ],
             [
              0.3333333333333333,
              "#9c179e"
             ],
             [
              0.4444444444444444,
              "#bd3786"
             ],
             [
              0.5555555555555556,
              "#d8576b"
             ],
             [
              0.6666666666666666,
              "#ed7953"
             ],
             [
              0.7777777777777778,
              "#fb9f3a"
             ],
             [
              0.8888888888888888,
              "#fdca26"
             ],
             [
              1,
              "#f0f921"
             ]
            ],
            "type": "histogram2d"
           }
          ],
          "histogram2dcontour": [
           {
            "colorbar": {
             "outlinewidth": 0,
             "ticks": ""
            },
            "colorscale": [
             [
              0,
              "#0d0887"
             ],
             [
              0.1111111111111111,
              "#46039f"
             ],
             [
              0.2222222222222222,
              "#7201a8"
             ],
             [
              0.3333333333333333,
              "#9c179e"
             ],
             [
              0.4444444444444444,
              "#bd3786"
             ],
             [
              0.5555555555555556,
              "#d8576b"
             ],
             [
              0.6666666666666666,
              "#ed7953"
             ],
             [
              0.7777777777777778,
              "#fb9f3a"
             ],
             [
              0.8888888888888888,
              "#fdca26"
             ],
             [
              1,
              "#f0f921"
             ]
            ],
            "type": "histogram2dcontour"
           }
          ],
          "mesh3d": [
           {
            "colorbar": {
             "outlinewidth": 0,
             "ticks": ""
            },
            "type": "mesh3d"
           }
          ],
          "parcoords": [
           {
            "line": {
             "colorbar": {
              "outlinewidth": 0,
              "ticks": ""
             }
            },
            "type": "parcoords"
           }
          ],
          "pie": [
           {
            "automargin": true,
            "type": "pie"
           }
          ],
          "scatter": [
           {
            "fillpattern": {
             "fillmode": "overlay",
             "size": 10,
             "solidity": 0.2
            },
            "type": "scatter"
           }
          ],
          "scatter3d": [
           {
            "line": {
             "colorbar": {
              "outlinewidth": 0,
              "ticks": ""
             }
            },
            "marker": {
             "colorbar": {
              "outlinewidth": 0,
              "ticks": ""
             }
            },
            "type": "scatter3d"
           }
          ],
          "scattercarpet": [
           {
            "marker": {
             "colorbar": {
              "outlinewidth": 0,
              "ticks": ""
             }
            },
            "type": "scattercarpet"
           }
          ],
          "scattergeo": [
           {
            "marker": {
             "colorbar": {
              "outlinewidth": 0,
              "ticks": ""
             }
            },
            "type": "scattergeo"
           }
          ],
          "scattergl": [
           {
            "marker": {
             "colorbar": {
              "outlinewidth": 0,
              "ticks": ""
             }
            },
            "type": "scattergl"
           }
          ],
          "scattermapbox": [
           {
            "marker": {
             "colorbar": {
              "outlinewidth": 0,
              "ticks": ""
             }
            },
            "type": "scattermapbox"
           }
          ],
          "scatterpolar": [
           {
            "marker": {
             "colorbar": {
              "outlinewidth": 0,
              "ticks": ""
             }
            },
            "type": "scatterpolar"
           }
          ],
          "scatterpolargl": [
           {
            "marker": {
             "colorbar": {
              "outlinewidth": 0,
              "ticks": ""
             }
            },
            "type": "scatterpolargl"
           }
          ],
          "scatterternary": [
           {
            "marker": {
             "colorbar": {
              "outlinewidth": 0,
              "ticks": ""
             }
            },
            "type": "scatterternary"
           }
          ],
          "surface": [
           {
            "colorbar": {
             "outlinewidth": 0,
             "ticks": ""
            },
            "colorscale": [
             [
              0,
              "#0d0887"
             ],
             [
              0.1111111111111111,
              "#46039f"
             ],
             [
              0.2222222222222222,
              "#7201a8"
             ],
             [
              0.3333333333333333,
              "#9c179e"
             ],
             [
              0.4444444444444444,
              "#bd3786"
             ],
             [
              0.5555555555555556,
              "#d8576b"
             ],
             [
              0.6666666666666666,
              "#ed7953"
             ],
             [
              0.7777777777777778,
              "#fb9f3a"
             ],
             [
              0.8888888888888888,
              "#fdca26"
             ],
             [
              1,
              "#f0f921"
             ]
            ],
            "type": "surface"
           }
          ],
          "table": [
           {
            "cells": {
             "fill": {
              "color": "#EBF0F8"
             },
             "line": {
              "color": "white"
             }
            },
            "header": {
             "fill": {
              "color": "#C8D4E3"
             },
             "line": {
              "color": "white"
             }
            },
            "type": "table"
           }
          ]
         },
         "layout": {
          "annotationdefaults": {
           "arrowcolor": "#2a3f5f",
           "arrowhead": 0,
           "arrowwidth": 1
          },
          "autotypenumbers": "strict",
          "coloraxis": {
           "colorbar": {
            "outlinewidth": 0,
            "ticks": ""
           }
          },
          "colorscale": {
           "diverging": [
            [
             0,
             "#8e0152"
            ],
            [
             0.1,
             "#c51b7d"
            ],
            [
             0.2,
             "#de77ae"
            ],
            [
             0.3,
             "#f1b6da"
            ],
            [
             0.4,
             "#fde0ef"
            ],
            [
             0.5,
             "#f7f7f7"
            ],
            [
             0.6,
             "#e6f5d0"
            ],
            [
             0.7,
             "#b8e186"
            ],
            [
             0.8,
             "#7fbc41"
            ],
            [
             0.9,
             "#4d9221"
            ],
            [
             1,
             "#276419"
            ]
           ],
           "sequential": [
            [
             0,
             "#0d0887"
            ],
            [
             0.1111111111111111,
             "#46039f"
            ],
            [
             0.2222222222222222,
             "#7201a8"
            ],
            [
             0.3333333333333333,
             "#9c179e"
            ],
            [
             0.4444444444444444,
             "#bd3786"
            ],
            [
             0.5555555555555556,
             "#d8576b"
            ],
            [
             0.6666666666666666,
             "#ed7953"
            ],
            [
             0.7777777777777778,
             "#fb9f3a"
            ],
            [
             0.8888888888888888,
             "#fdca26"
            ],
            [
             1,
             "#f0f921"
            ]
           ],
           "sequentialminus": [
            [
             0,
             "#0d0887"
            ],
            [
             0.1111111111111111,
             "#46039f"
            ],
            [
             0.2222222222222222,
             "#7201a8"
            ],
            [
             0.3333333333333333,
             "#9c179e"
            ],
            [
             0.4444444444444444,
             "#bd3786"
            ],
            [
             0.5555555555555556,
             "#d8576b"
            ],
            [
             0.6666666666666666,
             "#ed7953"
            ],
            [
             0.7777777777777778,
             "#fb9f3a"
            ],
            [
             0.8888888888888888,
             "#fdca26"
            ],
            [
             1,
             "#f0f921"
            ]
           ]
          },
          "colorway": [
           "#636efa",
           "#EF553B",
           "#00cc96",
           "#ab63fa",
           "#FFA15A",
           "#19d3f3",
           "#FF6692",
           "#B6E880",
           "#FF97FF",
           "#FECB52"
          ],
          "font": {
           "color": "#2a3f5f"
          },
          "geo": {
           "bgcolor": "white",
           "lakecolor": "white",
           "landcolor": "#E5ECF6",
           "showlakes": true,
           "showland": true,
           "subunitcolor": "white"
          },
          "hoverlabel": {
           "align": "left"
          },
          "hovermode": "closest",
          "mapbox": {
           "style": "light"
          },
          "paper_bgcolor": "white",
          "plot_bgcolor": "#E5ECF6",
          "polar": {
           "angularaxis": {
            "gridcolor": "white",
            "linecolor": "white",
            "ticks": ""
           },
           "bgcolor": "#E5ECF6",
           "radialaxis": {
            "gridcolor": "white",
            "linecolor": "white",
            "ticks": ""
           }
          },
          "scene": {
           "xaxis": {
            "backgroundcolor": "#E5ECF6",
            "gridcolor": "white",
            "gridwidth": 2,
            "linecolor": "white",
            "showbackground": true,
            "ticks": "",
            "zerolinecolor": "white"
           },
           "yaxis": {
            "backgroundcolor": "#E5ECF6",
            "gridcolor": "white",
            "gridwidth": 2,
            "linecolor": "white",
            "showbackground": true,
            "ticks": "",
            "zerolinecolor": "white"
           },
           "zaxis": {
            "backgroundcolor": "#E5ECF6",
            "gridcolor": "white",
            "gridwidth": 2,
            "linecolor": "white",
            "showbackground": true,
            "ticks": "",
            "zerolinecolor": "white"
           }
          },
          "shapedefaults": {
           "line": {
            "color": "#2a3f5f"
           }
          },
          "ternary": {
           "aaxis": {
            "gridcolor": "white",
            "linecolor": "white",
            "ticks": ""
           },
           "baxis": {
            "gridcolor": "white",
            "linecolor": "white",
            "ticks": ""
           },
           "bgcolor": "#E5ECF6",
           "caxis": {
            "gridcolor": "white",
            "linecolor": "white",
            "ticks": ""
           }
          },
          "title": {
           "x": 0.05
          },
          "xaxis": {
           "automargin": true,
           "gridcolor": "white",
           "linecolor": "white",
           "ticks": "",
           "title": {
            "standoff": 15
           },
           "zerolinecolor": "white",
           "zerolinewidth": 2
          },
          "yaxis": {
           "automargin": true,
           "gridcolor": "white",
           "linecolor": "white",
           "ticks": "",
           "title": {
            "standoff": 15
           },
           "zerolinecolor": "white",
           "zerolinewidth": 2
          }
         }
        },
        "xaxis": {
         "anchor": "y",
         "domain": [
          0,
          1
         ],
         "title": {
          "text": "vdj_aa_counts_r4"
         }
        },
        "yaxis": {
         "anchor": "x",
         "domain": [
          0,
          1
         ],
         "title": {
          "text": "vdj_aa_counts_r5"
         }
        }
       }
      },
      "text/html": [
       "<div>                            <div id=\"9635cb80-7322-4b61-8cdb-bf9aeefe75f5\" class=\"plotly-graph-div\" style=\"height:525px; width:100%;\"></div>            <script type=\"text/javascript\">                require([\"plotly\"], function(Plotly) {                    window.PLOTLYENV=window.PLOTLYENV || {};                                    if (document.getElementById(\"9635cb80-7322-4b61-8cdb-bf9aeefe75f5\")) {                    Plotly.newPlot(                        \"9635cb80-7322-4b61-8cdb-bf9aeefe75f5\",                        [{\"hovertemplate\":\"ID=%{marker.color}<br>vdj_aa_counts_r4=%{x}<br>vdj_aa_counts_r5=%{y}<extra></extra>\",\"legendgroup\":\"13038\",\"marker\":{\"color\":[13038],\"coloraxis\":\"coloraxis\",\"symbol\":\"circle\"},\"mode\":\"markers\",\"name\":\"13038\",\"orientation\":\"v\",\"showlegend\":true,\"x\":[118.0],\"xaxis\":\"x\",\"y\":[6286.0],\"yaxis\":\"y\",\"type\":\"scatter\"},{\"hovertemplate\":\"ID=%{marker.color}<br>vdj_aa_counts_r4=%{x}<br>vdj_aa_counts_r5=%{y}<extra></extra>\",\"legendgroup\":\"17385\",\"marker\":{\"color\":[17385],\"coloraxis\":\"coloraxis\",\"symbol\":\"diamond\"},\"mode\":\"markers\",\"name\":\"17385\",\"orientation\":\"v\",\"showlegend\":true,\"x\":[235.0],\"xaxis\":\"x\",\"y\":[4848.0],\"yaxis\":\"y\",\"type\":\"scatter\"},{\"hovertemplate\":\"ID=%{marker.color}<br>vdj_aa_counts_r4=%{x}<br>vdj_aa_counts_r5=%{y}<extra></extra>\",\"legendgroup\":\"15341\",\"marker\":{\"color\":[15341],\"coloraxis\":\"coloraxis\",\"symbol\":\"square\"},\"mode\":\"markers\",\"name\":\"15341\",\"orientation\":\"v\",\"showlegend\":true,\"x\":[66.0],\"xaxis\":\"x\",\"y\":[4143.0],\"yaxis\":\"y\",\"type\":\"scatter\"},{\"hovertemplate\":\"ID=%{marker.color}<br>vdj_aa_counts_r4=%{x}<br>vdj_aa_counts_r5=%{y}<extra></extra>\",\"legendgroup\":\"7371\",\"marker\":{\"color\":[7371],\"coloraxis\":\"coloraxis\",\"symbol\":\"x\"},\"mode\":\"markers\",\"name\":\"7371\",\"orientation\":\"v\",\"showlegend\":true,\"x\":[124.0],\"xaxis\":\"x\",\"y\":[2972.0],\"yaxis\":\"y\",\"type\":\"scatter\"},{\"hovertemplate\":\"ID=%{marker.color}<br>vdj_aa_counts_r4=%{x}<br>vdj_aa_counts_r5=%{y}<extra></extra>\",\"legendgroup\":\"15400\",\"marker\":{\"color\":[15400],\"coloraxis\":\"coloraxis\",\"symbol\":\"cross\"},\"mode\":\"markers\",\"name\":\"15400\",\"orientation\":\"v\",\"showlegend\":true,\"x\":[37.0],\"xaxis\":\"x\",\"y\":[2684.0],\"yaxis\":\"y\",\"type\":\"scatter\"},{\"hovertemplate\":\"ID=%{marker.color}<br>vdj_aa_counts_r4=%{x}<br>vdj_aa_counts_r5=%{y}<extra></extra>\",\"legendgroup\":\"2324\",\"marker\":{\"color\":[2324],\"coloraxis\":\"coloraxis\",\"symbol\":\"circle\"},\"mode\":\"markers\",\"name\":\"2324\",\"orientation\":\"v\",\"showlegend\":true,\"x\":[134.0],\"xaxis\":\"x\",\"y\":[2166.0],\"yaxis\":\"y\",\"type\":\"scatter\"},{\"hovertemplate\":\"ID=%{marker.color}<br>vdj_aa_counts_r4=%{x}<br>vdj_aa_counts_r5=%{y}<extra></extra>\",\"legendgroup\":\"21439\",\"marker\":{\"color\":[21439],\"coloraxis\":\"coloraxis\",\"symbol\":\"diamond\"},\"mode\":\"markers\",\"name\":\"21439\",\"orientation\":\"v\",\"showlegend\":true,\"x\":[26.0],\"xaxis\":\"x\",\"y\":[2080.0],\"yaxis\":\"y\",\"type\":\"scatter\"},{\"hovertemplate\":\"ID=%{marker.color}<br>vdj_aa_counts_r4=%{x}<br>vdj_aa_counts_r5=%{y}<extra></extra>\",\"legendgroup\":\"17209\",\"marker\":{\"color\":[17209],\"coloraxis\":\"coloraxis\",\"symbol\":\"square\"},\"mode\":\"markers\",\"name\":\"17209\",\"orientation\":\"v\",\"showlegend\":true,\"x\":[47.0],\"xaxis\":\"x\",\"y\":[2008.0],\"yaxis\":\"y\",\"type\":\"scatter\"},{\"hovertemplate\":\"ID=%{marker.color}<br>vdj_aa_counts_r4=%{x}<br>vdj_aa_counts_r5=%{y}<extra></extra>\",\"legendgroup\":\"21646\",\"marker\":{\"color\":[21646],\"coloraxis\":\"coloraxis\",\"symbol\":\"x\"},\"mode\":\"markers\",\"name\":\"21646\",\"orientation\":\"v\",\"showlegend\":true,\"x\":[41.0],\"xaxis\":\"x\",\"y\":[1766.0],\"yaxis\":\"y\",\"type\":\"scatter\"},{\"hovertemplate\":\"ID=%{marker.color}<br>vdj_aa_counts_r4=%{x}<br>vdj_aa_counts_r5=%{y}<extra></extra>\",\"legendgroup\":\"2255\",\"marker\":{\"color\":[2255],\"coloraxis\":\"coloraxis\",\"symbol\":\"cross\"},\"mode\":\"markers\",\"name\":\"2255\",\"orientation\":\"v\",\"showlegend\":true,\"x\":[30.0],\"xaxis\":\"x\",\"y\":[1644.0],\"yaxis\":\"y\",\"type\":\"scatter\"},{\"hovertemplate\":\"ID=%{marker.color}<br>vdj_aa_counts_r4=%{x}<br>vdj_aa_counts_r5=%{y}<extra></extra>\",\"legendgroup\":\"26951\",\"marker\":{\"color\":[26951],\"coloraxis\":\"coloraxis\",\"symbol\":\"circle\"},\"mode\":\"markers\",\"name\":\"26951\",\"orientation\":\"v\",\"showlegend\":true,\"x\":[29.0],\"xaxis\":\"x\",\"y\":[1529.0],\"yaxis\":\"y\",\"type\":\"scatter\"},{\"hovertemplate\":\"ID=%{marker.color}<br>vdj_aa_counts_r4=%{x}<br>vdj_aa_counts_r5=%{y}<extra></extra>\",\"legendgroup\":\"25128\",\"marker\":{\"color\":[25128],\"coloraxis\":\"coloraxis\",\"symbol\":\"diamond\"},\"mode\":\"markers\",\"name\":\"25128\",\"orientation\":\"v\",\"showlegend\":true,\"x\":[32.0],\"xaxis\":\"x\",\"y\":[1463.0],\"yaxis\":\"y\",\"type\":\"scatter\"}],                        {\"template\":{\"data\":{\"histogram2dcontour\":[{\"type\":\"histogram2dcontour\",\"colorbar\":{\"outlinewidth\":0,\"ticks\":\"\"},\"colorscale\":[[0.0,\"#0d0887\"],[0.1111111111111111,\"#46039f\"],[0.2222222222222222,\"#7201a8\"],[0.3333333333333333,\"#9c179e\"],[0.4444444444444444,\"#bd3786\"],[0.5555555555555556,\"#d8576b\"],[0.6666666666666666,\"#ed7953\"],[0.7777777777777778,\"#fb9f3a\"],[0.8888888888888888,\"#fdca26\"],[1.0,\"#f0f921\"]]}],\"choropleth\":[{\"type\":\"choropleth\",\"colorbar\":{\"outlinewidth\":0,\"ticks\":\"\"}}],\"histogram2d\":[{\"type\":\"histogram2d\",\"colorbar\":{\"outlinewidth\":0,\"ticks\":\"\"},\"colorscale\":[[0.0,\"#0d0887\"],[0.1111111111111111,\"#46039f\"],[0.2222222222222222,\"#7201a8\"],[0.3333333333333333,\"#9c179e\"],[0.4444444444444444,\"#bd3786\"],[0.5555555555555556,\"#d8576b\"],[0.6666666666666666,\"#ed7953\"],[0.7777777777777778,\"#fb9f3a\"],[0.8888888888888888,\"#fdca26\"],[1.0,\"#f0f921\"]]}],\"heatmap\":[{\"type\":\"heatmap\",\"colorbar\":{\"outlinewidth\":0,\"ticks\":\"\"},\"colorscale\":[[0.0,\"#0d0887\"],[0.1111111111111111,\"#46039f\"],[0.2222222222222222,\"#7201a8\"],[0.3333333333333333,\"#9c179e\"],[0.4444444444444444,\"#bd3786\"],[0.5555555555555556,\"#d8576b\"],[0.6666666666666666,\"#ed7953\"],[0.7777777777777778,\"#fb9f3a\"],[0.8888888888888888,\"#fdca26\"],[1.0,\"#f0f921\"]]}],\"heatmapgl\":[{\"type\":\"heatmapgl\",\"colorbar\":{\"outlinewidth\":0,\"ticks\":\"\"},\"colorscale\":[[0.0,\"#0d0887\"],[0.1111111111111111,\"#46039f\"],[0.2222222222222222,\"#7201a8\"],[0.3333333333333333,\"#9c179e\"],[0.4444444444444444,\"#bd3786\"],[0.5555555555555556,\"#d8576b\"],[0.6666666666666666,\"#ed7953\"],[0.7777777777777778,\"#fb9f3a\"],[0.8888888888888888,\"#fdca26\"],[1.0,\"#f0f921\"]]}],\"contourcarpet\":[{\"type\":\"contourcarpet\",\"colorbar\":{\"outlinewidth\":0,\"ticks\":\"\"}}],\"contour\":[{\"type\":\"contour\",\"colorbar\":{\"outlinewidth\":0,\"ticks\":\"\"},\"colorscale\":[[0.0,\"#0d0887\"],[0.1111111111111111,\"#46039f\"],[0.2222222222222222,\"#7201a8\"],[0.3333333333333333,\"#9c179e\"],[0.4444444444444444,\"#bd3786\"],[0.5555555555555556,\"#d8576b\"],[0.6666666666666666,\"#ed7953\"],[0.7777777777777778,\"#fb9f3a\"],[0.8888888888888888,\"#fdca26\"],[1.0,\"#f0f921\"]]}],\"surface\":[{\"type\":\"surface\",\"colorbar\":{\"outlinewidth\":0,\"ticks\":\"\"},\"colorscale\":[[0.0,\"#0d0887\"],[0.1111111111111111,\"#46039f\"],[0.2222222222222222,\"#7201a8\"],[0.3333333333333333,\"#9c179e\"],[0.4444444444444444,\"#bd3786\"],[0.5555555555555556,\"#d8576b\"],[0.6666666666666666,\"#ed7953\"],[0.7777777777777778,\"#fb9f3a\"],[0.8888888888888888,\"#fdca26\"],[1.0,\"#f0f921\"]]}],\"mesh3d\":[{\"type\":\"mesh3d\",\"colorbar\":{\"outlinewidth\":0,\"ticks\":\"\"}}],\"scatter\":[{\"fillpattern\":{\"fillmode\":\"overlay\",\"size\":10,\"solidity\":0.2},\"type\":\"scatter\"}],\"parcoords\":[{\"type\":\"parcoords\",\"line\":{\"colorbar\":{\"outlinewidth\":0,\"ticks\":\"\"}}}],\"scatterpolargl\":[{\"type\":\"scatterpolargl\",\"marker\":{\"colorbar\":{\"outlinewidth\":0,\"ticks\":\"\"}}}],\"bar\":[{\"error_x\":{\"color\":\"#2a3f5f\"},\"error_y\":{\"color\":\"#2a3f5f\"},\"marker\":{\"line\":{\"color\":\"#E5ECF6\",\"width\":0.5},\"pattern\":{\"fillmode\":\"overlay\",\"size\":10,\"solidity\":0.2}},\"type\":\"bar\"}],\"scattergeo\":[{\"type\":\"scattergeo\",\"marker\":{\"colorbar\":{\"outlinewidth\":0,\"ticks\":\"\"}}}],\"scatterpolar\":[{\"type\":\"scatterpolar\",\"marker\":{\"colorbar\":{\"outlinewidth\":0,\"ticks\":\"\"}}}],\"histogram\":[{\"marker\":{\"pattern\":{\"fillmode\":\"overlay\",\"size\":10,\"solidity\":0.2}},\"type\":\"histogram\"}],\"scattergl\":[{\"type\":\"scattergl\",\"marker\":{\"colorbar\":{\"outlinewidth\":0,\"ticks\":\"\"}}}],\"scatter3d\":[{\"type\":\"scatter3d\",\"line\":{\"colorbar\":{\"outlinewidth\":0,\"ticks\":\"\"}},\"marker\":{\"colorbar\":{\"outlinewidth\":0,\"ticks\":\"\"}}}],\"scattermapbox\":[{\"type\":\"scattermapbox\",\"marker\":{\"colorbar\":{\"outlinewidth\":0,\"ticks\":\"\"}}}],\"scatterternary\":[{\"type\":\"scatterternary\",\"marker\":{\"colorbar\":{\"outlinewidth\":0,\"ticks\":\"\"}}}],\"scattercarpet\":[{\"type\":\"scattercarpet\",\"marker\":{\"colorbar\":{\"outlinewidth\":0,\"ticks\":\"\"}}}],\"carpet\":[{\"aaxis\":{\"endlinecolor\":\"#2a3f5f\",\"gridcolor\":\"white\",\"linecolor\":\"white\",\"minorgridcolor\":\"white\",\"startlinecolor\":\"#2a3f5f\"},\"baxis\":{\"endlinecolor\":\"#2a3f5f\",\"gridcolor\":\"white\",\"linecolor\":\"white\",\"minorgridcolor\":\"white\",\"startlinecolor\":\"#2a3f5f\"},\"type\":\"carpet\"}],\"table\":[{\"cells\":{\"fill\":{\"color\":\"#EBF0F8\"},\"line\":{\"color\":\"white\"}},\"header\":{\"fill\":{\"color\":\"#C8D4E3\"},\"line\":{\"color\":\"white\"}},\"type\":\"table\"}],\"barpolar\":[{\"marker\":{\"line\":{\"color\":\"#E5ECF6\",\"width\":0.5},\"pattern\":{\"fillmode\":\"overlay\",\"size\":10,\"solidity\":0.2}},\"type\":\"barpolar\"}],\"pie\":[{\"automargin\":true,\"type\":\"pie\"}]},\"layout\":{\"autotypenumbers\":\"strict\",\"colorway\":[\"#636efa\",\"#EF553B\",\"#00cc96\",\"#ab63fa\",\"#FFA15A\",\"#19d3f3\",\"#FF6692\",\"#B6E880\",\"#FF97FF\",\"#FECB52\"],\"font\":{\"color\":\"#2a3f5f\"},\"hovermode\":\"closest\",\"hoverlabel\":{\"align\":\"left\"},\"paper_bgcolor\":\"white\",\"plot_bgcolor\":\"#E5ECF6\",\"polar\":{\"bgcolor\":\"#E5ECF6\",\"angularaxis\":{\"gridcolor\":\"white\",\"linecolor\":\"white\",\"ticks\":\"\"},\"radialaxis\":{\"gridcolor\":\"white\",\"linecolor\":\"white\",\"ticks\":\"\"}},\"ternary\":{\"bgcolor\":\"#E5ECF6\",\"aaxis\":{\"gridcolor\":\"white\",\"linecolor\":\"white\",\"ticks\":\"\"},\"baxis\":{\"gridcolor\":\"white\",\"linecolor\":\"white\",\"ticks\":\"\"},\"caxis\":{\"gridcolor\":\"white\",\"linecolor\":\"white\",\"ticks\":\"\"}},\"coloraxis\":{\"colorbar\":{\"outlinewidth\":0,\"ticks\":\"\"}},\"colorscale\":{\"sequential\":[[0.0,\"#0d0887\"],[0.1111111111111111,\"#46039f\"],[0.2222222222222222,\"#7201a8\"],[0.3333333333333333,\"#9c179e\"],[0.4444444444444444,\"#bd3786\"],[0.5555555555555556,\"#d8576b\"],[0.6666666666666666,\"#ed7953\"],[0.7777777777777778,\"#fb9f3a\"],[0.8888888888888888,\"#fdca26\"],[1.0,\"#f0f921\"]],\"sequentialminus\":[[0.0,\"#0d0887\"],[0.1111111111111111,\"#46039f\"],[0.2222222222222222,\"#7201a8\"],[0.3333333333333333,\"#9c179e\"],[0.4444444444444444,\"#bd3786\"],[0.5555555555555556,\"#d8576b\"],[0.6666666666666666,\"#ed7953\"],[0.7777777777777778,\"#fb9f3a\"],[0.8888888888888888,\"#fdca26\"],[1.0,\"#f0f921\"]],\"diverging\":[[0,\"#8e0152\"],[0.1,\"#c51b7d\"],[0.2,\"#de77ae\"],[0.3,\"#f1b6da\"],[0.4,\"#fde0ef\"],[0.5,\"#f7f7f7\"],[0.6,\"#e6f5d0\"],[0.7,\"#b8e186\"],[0.8,\"#7fbc41\"],[0.9,\"#4d9221\"],[1,\"#276419\"]]},\"xaxis\":{\"gridcolor\":\"white\",\"linecolor\":\"white\",\"ticks\":\"\",\"title\":{\"standoff\":15},\"zerolinecolor\":\"white\",\"automargin\":true,\"zerolinewidth\":2},\"yaxis\":{\"gridcolor\":\"white\",\"linecolor\":\"white\",\"ticks\":\"\",\"title\":{\"standoff\":15},\"zerolinecolor\":\"white\",\"automargin\":true,\"zerolinewidth\":2},\"scene\":{\"xaxis\":{\"backgroundcolor\":\"#E5ECF6\",\"gridcolor\":\"white\",\"linecolor\":\"white\",\"showbackground\":true,\"ticks\":\"\",\"zerolinecolor\":\"white\",\"gridwidth\":2},\"yaxis\":{\"backgroundcolor\":\"#E5ECF6\",\"gridcolor\":\"white\",\"linecolor\":\"white\",\"showbackground\":true,\"ticks\":\"\",\"zerolinecolor\":\"white\",\"gridwidth\":2},\"zaxis\":{\"backgroundcolor\":\"#E5ECF6\",\"gridcolor\":\"white\",\"linecolor\":\"white\",\"showbackground\":true,\"ticks\":\"\",\"zerolinecolor\":\"white\",\"gridwidth\":2}},\"shapedefaults\":{\"line\":{\"color\":\"#2a3f5f\"}},\"annotationdefaults\":{\"arrowcolor\":\"#2a3f5f\",\"arrowhead\":0,\"arrowwidth\":1},\"geo\":{\"bgcolor\":\"white\",\"landcolor\":\"#E5ECF6\",\"subunitcolor\":\"white\",\"showland\":true,\"showlakes\":true,\"lakecolor\":\"white\"},\"title\":{\"x\":0.05},\"mapbox\":{\"style\":\"light\"}}},\"xaxis\":{\"anchor\":\"y\",\"domain\":[0.0,1.0],\"title\":{\"text\":\"vdj_aa_counts_r4\"}},\"yaxis\":{\"anchor\":\"x\",\"domain\":[0.0,1.0],\"title\":{\"text\":\"vdj_aa_counts_r5\"}},\"coloraxis\":{\"colorbar\":{\"title\":{\"text\":\"ID\"}},\"colorscale\":[[0.0,\"#0d0887\"],[0.1111111111111111,\"#46039f\"],[0.2222222222222222,\"#7201a8\"],[0.3333333333333333,\"#9c179e\"],[0.4444444444444444,\"#bd3786\"],[0.5555555555555556,\"#d8576b\"],[0.6666666666666666,\"#ed7953\"],[0.7777777777777778,\"#fb9f3a\"],[0.8888888888888888,\"#fdca26\"],[1.0,\"#f0f921\"]],\"showscale\":false},\"legend\":{\"title\":{\"text\":\"ID\"},\"tracegroupgap\":0},\"margin\":{\"t\":60}},                        {\"responsive\": true}                    ).then(function(){\n",
       "                            \n",
       "var gd = document.getElementById('9635cb80-7322-4b61-8cdb-bf9aeefe75f5');\n",
       "var x = new MutationObserver(function (mutations, observer) {{\n",
       "        var display = window.getComputedStyle(gd).display;\n",
       "        if (!display || display === 'none') {{\n",
       "            console.log([gd, 'removed!']);\n",
       "            Plotly.purge(gd);\n",
       "            observer.disconnect();\n",
       "        }}\n",
       "}});\n",
       "\n",
       "// Listen for the removal of the full notebook cells\n",
       "var notebookContainer = gd.closest('#notebook-container');\n",
       "if (notebookContainer) {{\n",
       "    x.observe(notebookContainer, {childList: true});\n",
       "}}\n",
       "\n",
       "// Listen for the clearing of the current output cell\n",
       "var outputEl = gd.closest('.output');\n",
       "if (outputEl) {{\n",
       "    x.observe(outputEl, {childList: true});\n",
       "}}\n",
       "\n",
       "                        })                };                });            </script>        </div>"
      ]
     },
     "metadata": {},
     "output_type": "display_data"
    }
   ],
   "source": [
    "fig = px.scatter(plot_data, x = \"vdj_aa_counts_r4\", y = \"vdj_aa_counts_r5\", symbol = \"ID\", color = \"ID\")\n",
    "fig.update(layout_coloraxis_showscale=False)\n",
    "fig.show()"
   ]
  },
  {
   "cell_type": "code",
   "execution_count": null,
   "id": "1fae62d9",
   "metadata": {},
   "outputs": [],
   "source": []
  }
 ],
 "metadata": {
  "kernelspec": {
   "display_name": "Python 3 (ipykernel)",
   "language": "python",
   "name": "python3"
  },
  "language_info": {
   "codemirror_mode": {
    "name": "ipython",
    "version": 3
   },
   "file_extension": ".py",
   "mimetype": "text/x-python",
   "name": "python",
   "nbconvert_exporter": "python",
   "pygments_lexer": "ipython3",
   "version": "3.9.13"
  }
 },
 "nbformat": 4,
 "nbformat_minor": 5
}
