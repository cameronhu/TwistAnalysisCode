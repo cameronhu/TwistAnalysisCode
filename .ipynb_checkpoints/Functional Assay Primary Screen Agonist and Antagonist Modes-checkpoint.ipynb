{
 "cells": [
  {
   "cell_type": "code",
   "execution_count": 1,
   "id": "f00ff2da",
   "metadata": {},
   "outputs": [
    {
     "data": {
      "text/plain": [
       "'Upload ELN w/ Functional Data and Antibodies Sheet (xlsx), and specify assay type'"
      ]
     },
     "metadata": {},
     "output_type": "display_data"
    },
    {
     "data": {
      "application/vnd.jupyter.widget-view+json": {
       "model_id": "8fd469d327aa4d298b284870609e1738",
       "version_major": 2,
       "version_minor": 0
      },
      "text/plain": [
       "FileUpload(value={}, description='Upload')"
      ]
     },
     "metadata": {},
     "output_type": "display_data"
    },
    {
     "data": {
      "application/vnd.jupyter.widget-view+json": {
       "model_id": "434f6f1626254fb7957b79a5490d50b8",
       "version_major": 2,
       "version_minor": 0
      },
      "text/plain": [
       "Text(value='', description='Assay Type:', placeholder='Type something')"
      ]
     },
     "metadata": {},
     "output_type": "display_data"
    }
   ],
   "source": [
    "import pandas as pd, ipywidgets as widgets, numpy as np, matplotlib.pyplot as plt, io\n",
    "raw_uploader, eln_uploader = widgets.FileUpload(multiple = False), widgets.FileUpload(multiple = False)\n",
    "assay_type_widget = widgets.Text(placeholder='Type something',description='Assay Type:', disabled=False)\n",
    "display(\"Upload ELN w/ Functional Data and Antibodies Sheet (xlsx), and specify assay type\")\n",
    "display(eln_uploader)\n",
    "display(assay_type_widget)"
   ]
  },
  {
   "cell_type": "code",
   "execution_count": 2,
   "id": "51b74700",
   "metadata": {},
   "outputs": [],
   "source": [
    "elnname = list(eln_uploader.value.keys())[0]\n",
    "eln = pd.read_excel(io.BytesIO(eln_uploader.value[elnname]['content']))\n",
    "ab_sheet = pd.read_excel(io.BytesIO(eln_uploader.value[elnname]['content']), sheet_name = \"Antibody Plate Map\")\n",
    "functional_assay_type = assay_type_widget.value\n",
    "\n",
    "agonist_data = pd.read_excel(io.BytesIO(eln_uploader.value[elnname]['content']), sheet_name = functional_assay_type + \" Agonist\")\n",
    "antagonist_data = pd.read_excel(io.BytesIO(eln_uploader.value[elnname]['content']), sheet_name = functional_assay_type + \" Antagonist\")"
   ]
  },
  {
   "cell_type": "code",
   "execution_count": 3,
   "id": "6e3871f8",
   "metadata": {},
   "outputs": [],
   "source": [
    "#Function that ensures a given antibody platemap is formatted correctly (by columns, not rows)\n",
    "#Mutable function that changes the antibody sheet indicated by ab_sheet\n",
    "#ie A1->B1-->H1->A2-->B2-->A12-->H12\n",
    "#First, separate the Well ID into separate \"Plate Number\",\"Format Row\" and \"Format Column\" values \n",
    "#(Row is Letter, Column is Number)\n",
    "#Sort the platemap into proper Plate -> Column -> Row format\n",
    "#Returns nothing, mutates the ab_sheet antibody plate map\n",
    "def format_platemap():\n",
    "    ab_sheet[\"Format Row\"] = ab_sheet[\"Well ID\"].str.slice(start = 0, stop = 1)\n",
    "    numeric_col = ab_sheet[\"Well ID\"].str.slice(start = 1)\n",
    "    numeric_col = pd.to_numeric(numeric_col)\n",
    "    ab_sheet[\"Format Column\"] = numeric_col\n",
    "    ab_sheet.sort_values(by=[\"Plate Number\",\"Format Column\", \"Format Row\"], inplace=True, ignore_index = True)\n",
    "    return\n",
    "\n",
    "#Average function that takes a series with n=1, n=2 replicates in sequential order within the series, and \n",
    "#Separates n=1 and n=2 replicates resets indeces, and calculates average\n",
    "#Returns a series with the averaged values, removing the replicate wells\n",
    "def average(series_to_average):\n",
    "    firsts = series_to_average.iloc[::2]\n",
    "    seconds = series_to_average.iloc[1::2]\n",
    "    firsts.reset_index(inplace = True, drop = True)\n",
    "    seconds.reset_index(inplace = True, drop = True)\n",
    "    averaged_series = firsts + seconds\n",
    "    averaged_series = averaged_series/2\n",
    "    return averaged_series\n",
    "\n",
    "#Takes a Pandas dataframe as an input. Takes every column from the dataframe and concatenates them into one single series\n",
    "#Returns the new series that has all of the data in one column, starting from 1st column -> max # of columns\n",
    "def columnize(df_to_columnize):\n",
    "    return_column = pd.Series()\n",
    "    for column in df_to_columnize.columns:\n",
    "        colToAdd = df_to_columnize[column]\n",
    "        return_column = pd.concat([return_column, colToAdd], axis = 0, ignore_index = True)\n",
    "    return return_column\n",
    "\n",
    "\n",
    "#Flow binding functions for iQue3 data\n",
    "\n",
    "# #Return cleaned iQue3 data with only samples of the well type specified\n",
    "# def clean_for_well_type(well_type_string):\n",
    "#     return data_cleaned[data_cleaned[\"Well Type\"] == well_type_string]\n",
    "\n",
    "# #Average function that takes a string indicating the well type of interest (marked in iQue3 software, or manually changed in csv)\n",
    "# #Also takes a string indicating the data from the csv to be averaged (to_average_string)\n",
    "# #Separates n=1 and n=2 replicates from 384 well format, resets indeces, and averages\n",
    "# #Returns a series with the averaged MFI ratios, removing the replicate wells\n",
    "# def average(well_type_string, to_average_string):\n",
    "#     selected_wells = clean_for_well_type(well_type_string)\n",
    "#     values_to_average = selected_wells[to_average_string]\n",
    "#     return average(values_to_average)\n",
    "\n",
    "# #Calculates the MFI ratio given a positive and negative series, \n",
    "# #and appends the MFI ratio to the original data frame, excluding the negative population\n",
    "# #Calculates the average cell count for each duplicate, and appends average cell count to original data frame\n",
    "# def calculate_analysis_sheet(positive, negative):\n",
    "#     MFI_ratio = positive/negative\n",
    "#     original_positive = clean_for_well_type(\"Positive\")\n",
    "#     original_positive = original_positive[::2]\n",
    "#     original_positive.reset_index(inplace = True, drop = True)\n",
    "#     original_positive[\"MFI Ratio\"] = MFI_ratio\n",
    "#     MFIs_Antibody = pd.concat([original_positive, ab_sheet], axis = 1)\n",
    "#     MFIs_Antibody.index += 1\n",
    "#     averagePositiveCounts = average(\"Positive\", \"Count of singlets\")\n",
    "#     return MFIs_Antibody[[\"Plate\", \"Well ID\", \"Well Type\", \"MFI Ratio\", \"DNA\", \"Format Row\", \"Format Column\"]] \n"
   ]
  },
  {
   "cell_type": "code",
   "execution_count": 6,
   "id": "4531a705",
   "metadata": {},
   "outputs": [
    {
     "name": "stderr",
     "output_type": "stream",
     "text": [
      "/var/folders/k8/mg372j_55z30k1z4y_8mb0w00000gn/T/ipykernel_39831/3984694805.py:31: FutureWarning: The default dtype for empty Series will be 'object' instead of 'float64' in a future version. Specify a dtype explicitly to silence this warning.\n",
      "  return_column = pd.Series()\n",
      "/var/folders/k8/mg372j_55z30k1z4y_8mb0w00000gn/T/ipykernel_39831/3984694805.py:31: FutureWarning: The default dtype for empty Series will be 'object' instead of 'float64' in a future version. Specify a dtype explicitly to silence this warning.\n",
      "  return_column = pd.Series()\n"
     ]
    },
    {
     "data": {
      "text/html": [
       "<div>\n",
       "<style scoped>\n",
       "    .dataframe tbody tr th:only-of-type {\n",
       "        vertical-align: middle;\n",
       "    }\n",
       "\n",
       "    .dataframe tbody tr th {\n",
       "        vertical-align: top;\n",
       "    }\n",
       "\n",
       "    .dataframe thead th {\n",
       "        text-align: right;\n",
       "    }\n",
       "</style>\n",
       "<table border=\"1\" class=\"dataframe\">\n",
       "  <thead>\n",
       "    <tr style=\"text-align: right;\">\n",
       "      <th></th>\n",
       "      <th>Agonist Mode</th>\n",
       "      <th>Antagonist Mode</th>\n",
       "      <th>DNA</th>\n",
       "      <th>Concentration (mg/mL)</th>\n",
       "    </tr>\n",
       "  </thead>\n",
       "  <tbody>\n",
       "    <tr>\n",
       "      <th>88</th>\n",
       "      <td>522.8375</td>\n",
       "      <td>561.7115</td>\n",
       "      <td>TB620-061</td>\n",
       "      <td>0.0100</td>\n",
       "    </tr>\n",
       "    <tr>\n",
       "      <th>70</th>\n",
       "      <td>502.1310</td>\n",
       "      <td>288.5860</td>\n",
       "      <td>TB620-056</td>\n",
       "      <td>0.0000</td>\n",
       "    </tr>\n",
       "    <tr>\n",
       "      <th>46</th>\n",
       "      <td>491.7780</td>\n",
       "      <td>479.2585</td>\n",
       "      <td>TB620-050</td>\n",
       "      <td>0.0000</td>\n",
       "    </tr>\n",
       "    <tr>\n",
       "      <th>86</th>\n",
       "      <td>491.7780</td>\n",
       "      <td>432.8785</td>\n",
       "      <td>TB620-084</td>\n",
       "      <td>0.0000</td>\n",
       "    </tr>\n",
       "    <tr>\n",
       "      <th>14</th>\n",
       "      <td>491.7775</td>\n",
       "      <td>572.0180</td>\n",
       "      <td>TB620-175</td>\n",
       "      <td>0.0200</td>\n",
       "    </tr>\n",
       "    <tr>\n",
       "      <th>...</th>\n",
       "      <td>...</td>\n",
       "      <td>...</td>\n",
       "      <td>...</td>\n",
       "      <td>...</td>\n",
       "    </tr>\n",
       "    <tr>\n",
       "      <th>38</th>\n",
       "      <td>0.0000</td>\n",
       "      <td>304.0460</td>\n",
       "      <td>TB620-181</td>\n",
       "      <td>0.0000</td>\n",
       "    </tr>\n",
       "    <tr>\n",
       "      <th>52</th>\n",
       "      <td>0.0000</td>\n",
       "      <td>25.7670</td>\n",
       "      <td>TB620-040</td>\n",
       "      <td>0.0100</td>\n",
       "    </tr>\n",
       "    <tr>\n",
       "      <th>113</th>\n",
       "      <td>NaN</td>\n",
       "      <td>NaN</td>\n",
       "      <td>Tmab_220423_TN</td>\n",
       "      <td>1.1169</td>\n",
       "    </tr>\n",
       "    <tr>\n",
       "      <th>114</th>\n",
       "      <td>NaN</td>\n",
       "      <td>NaN</td>\n",
       "      <td>Tmab_220423_TN</td>\n",
       "      <td>1.0964</td>\n",
       "    </tr>\n",
       "    <tr>\n",
       "      <th>115</th>\n",
       "      <td>NaN</td>\n",
       "      <td>NaN</td>\n",
       "      <td>Tmab_220423_TN</td>\n",
       "      <td>1.3160</td>\n",
       "    </tr>\n",
       "  </tbody>\n",
       "</table>\n",
       "<p>115 rows × 4 columns</p>\n",
       "</div>"
      ],
      "text/plain": [
       "     Agonist Mode  Antagonist Mode             DNA  Concentration (mg/mL)\n",
       "88       522.8375         561.7115       TB620-061                 0.0100\n",
       "70       502.1310         288.5860       TB620-056                 0.0000\n",
       "46       491.7780         479.2585       TB620-050                 0.0000\n",
       "86       491.7780         432.8785       TB620-084                 0.0000\n",
       "14       491.7775         572.0180       TB620-175                 0.0200\n",
       "..            ...              ...             ...                    ...\n",
       "38         0.0000         304.0460       TB620-181                 0.0000\n",
       "52         0.0000          25.7670       TB620-040                 0.0100\n",
       "113           NaN              NaN  Tmab_220423_TN                 1.1169\n",
       "114           NaN              NaN  Tmab_220423_TN                 1.0964\n",
       "115           NaN              NaN  Tmab_220423_TN                 1.3160\n",
       "\n",
       "[115 rows x 4 columns]"
      ]
     },
     "execution_count": 6,
     "metadata": {},
     "output_type": "execute_result"
    }
   ],
   "source": [
    "#Create new DF for concatenating the Agonist, Antagonist signals, and the Antibody Plate Map\n",
    "format_platemap()\n",
    "\n",
    "agonist_column, antagonist_column = columnize(agonist_data), columnize(antagonist_data)\n",
    "averageAgonists, averageAntagonists = average(agonist_column), average(antagonist_column)\n",
    "OutputSheet = pd.concat([averageAgonists, averageAntagonists, ab_sheet], axis = 1)\n",
    "OutputSheet.index += 1\n",
    "OutputSheet.rename(inplace = True, columns = {0: \"Agonist Mode\", 1: \"Antagonist Mode\"})\n",
    "OutputSheetCleaned = OutputSheet[[\"Agonist Mode\", \"Antagonist Mode\", \"DNA\", \"Concentration (mg/mL)\"]]\n",
    "OutputSheetCleaned.to_excel(functional_assay_type + \" Functional Assay Agonist and Antagonist Mode Analysis.xlsx\", sheet_name = 'Analyzed Data')\n",
    "AgonistSort = OutputSheetCleaned.sort_values(by=\"Agonist Mode\", ascending = False)\n",
    "AgonistSort\n",
    "#AntagonistSort = OutputSheetCleaned.sort_values(by=\"Antagonist Mode\", ascending = False)\n",
    "#OutputSheet"
   ]
  },
  {
   "cell_type": "code",
   "execution_count": null,
   "id": "5806ec23",
   "metadata": {},
   "outputs": [],
   "source": [
    "# #Sort DF by highest MFI ratio (top hits)\n",
    "# AllLeadsSorted = MFIRatio_Antibody_cleaned.sort_values(by=\"MFI Ratio\", ascending = False)\n",
    "# Top10 = MFIRatio_Antibody_cleaned.nlargest(10, \"MFI Ratio\")\n",
    "# #Top10 = Top10.append(MFIRatio_Antibody_cleaned.loc[MFIRatio_Antibody_cleaned[\"DNA\"] == \"SC-175-017\"])\n",
    "# fig, ax = plt.subplots()\n",
    "# ax.scatter(x = AllLeadsSorted[\"Protein Concentration (ug/uL)\"], y=AllLeadsSorted[\"MFI Ratio\"], alpha = .2, color = \"blue\")\n",
    "# ax.scatter(x = Top10[\"Protein Concentration (ug/uL)\"], y = Top10[\"MFI Ratio\"], alpha = .8, color = \"blue\", label = \"Top Hits\")\n",
    "# ax.set_title(\"CD40 Primary Screen\")\n",
    "# ax.set_xlabel(\"Concentration (mg/ml)\")\n",
    "# ax.set_ylabel(\"MFI Ratio \\n Transfected/Untransfected\")\n",
    "# ax.legend()\n",
    "\n",
    "# texts = []\n",
    "# for row in Top10.itertuples(index = False):\n",
    "#     ab, conc, MFI = row[4], row[5], row[3]\n",
    "#     ax.annotate(row[4], xy = (conc, MFI), textcoords = \"offset points\", xytext = (8, -2), ha ='left')\n",
    "#     #texts.append(plt.text(ab, conc, MFI))"
   ]
  },
  {
   "cell_type": "code",
   "execution_count": null,
   "id": "3c8625fb",
   "metadata": {},
   "outputs": [],
   "source": []
  }
 ],
 "metadata": {
  "kernelspec": {
   "display_name": "Python 3 (ipykernel)",
   "language": "python",
   "name": "python3"
  },
  "language_info": {
   "codemirror_mode": {
    "name": "ipython",
    "version": 3
   },
   "file_extension": ".py",
   "mimetype": "text/x-python",
   "name": "python",
   "nbconvert_exporter": "python",
   "pygments_lexer": "ipython3",
   "version": "3.10.5"
  }
 },
 "nbformat": 4,
 "nbformat_minor": 5
}
