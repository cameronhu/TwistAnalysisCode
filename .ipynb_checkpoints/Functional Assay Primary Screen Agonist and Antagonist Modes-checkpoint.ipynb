{
 "cells": [
  {
   "cell_type": "code",
   "execution_count": 1,
   "id": "f00ff2da",
   "metadata": {},
   "outputs": [
    {
     "data": {
      "text/plain": [
       "'Upload ELN w/ Functional Data and Antibodies Sheet (xlsx)'"
      ]
     },
     "metadata": {},
     "output_type": "display_data"
    },
    {
     "data": {
      "application/vnd.jupyter.widget-view+json": {
       "model_id": "9bd6299f3ca6460ea271ca8aa450636b",
       "version_major": 2,
       "version_minor": 0
      },
      "text/plain": [
       "FileUpload(value={}, description='Upload')"
      ]
     },
     "metadata": {},
     "output_type": "display_data"
    }
   ],
   "source": [
    "import pandas as pd, ipywidgets as widgets, numpy as np, matplotlib.pyplot as plt, io\n",
    "from adjustText import adjust_text\n",
    "raw_uploader, eln_uploader = widgets.FileUpload(multiple = False), widgets.FileUpload(multiple = False)\n",
    "display(\"Upload ELN w/ Functional Data and Antibodies Sheet (xlsx)\")\n",
    "display(eln_uploader)"
   ]
  },
  {
   "cell_type": "code",
   "execution_count": 2,
   "id": "51b74700",
   "metadata": {},
   "outputs": [],
   "source": [
    "elnname = list(eln_uploader.value.keys())[0]\n",
    "eln = pd.read_excel(io.BytesIO(eln_uploader.value[elnname]['content']))\n",
    "ab_sheet = pd.read_excel(io.BytesIO(eln_uploader.value[elnname]['content']), sheet_name = \"Antibody Plate Map\")\n",
    "\n",
    "#Change functional_assay_type string according to the functional assay name appended to front of sheet\n",
    "functional_assay_type = \"CRE\"\n",
    "agonist_data = pd.read_excel(io.BytesIO(eln_uploader.value[elnname]['content']), sheet_name = functional_assay_type + \" Agonist\")\n",
    "antagonist_data = pd.read_excel(io.BytesIO(eln_uploader.value[elnname]['content']), sheet_name = functional_assay_type + \" Antagonist\")"
   ]
  },
  {
   "cell_type": "code",
   "execution_count": 3,
   "id": "6e3871f8",
   "metadata": {},
   "outputs": [],
   "source": [
    "#Return data frame with only samples of the well type specified\n",
    "def clean_for_well_type(well_type_string):\n",
    "    return data_cleaned[data_cleaned[\"Well Type\"] == well_type_string]\n",
    "\n",
    "#Convert data from plate format to column format. Takes data in plate format (with column labels) and converts \n",
    "#it into a single series with the data in order\n",
    "def columnize(data):\n",
    "    return_column = pd.Series(dtype='float64')\n",
    "    for column in data.columns:\n",
    "        colToAdd = data[column]\n",
    "        return_column = pd.concat([return_column, colToAdd], axis = 0, ignore_index = True)\n",
    "    return return_column\n",
    "\n",
    "#Average function that takes a column with duplicate wells and returns a single series with the duplicates averaged\n",
    "#Separates n=1 and n=2 replicates from 384 well format, resets indeces, and averages\n",
    "#Returns a series with the averaged duplicates, removing the replicate wells\n",
    "def average_duplicates(column_to_average):\n",
    "    firsts = column_to_average.iloc[::2]\n",
    "    seconds = column_to_average.iloc[1::2]\n",
    "    firsts.reset_index(inplace = True, drop = True)\n",
    "    seconds.reset_index(inplace = True, drop = True)\n",
    "    average = firsts + seconds\n",
    "    average = average/2\n",
    "    return average\n",
    "\n",
    "#Creates an ExcelWriter object that will append the analyzed data sheet to the ELN \n",
    "# def to_excel(dataframe):\n",
    "#     with pd.ExcelWriter(elnname, mode='a') as writer:  \n",
    "#     df.to_excel(writer, sheet_name='Sheet_name_3')"
   ]
  },
  {
   "cell_type": "code",
   "execution_count": 4,
   "id": "4531a705",
   "metadata": {},
   "outputs": [],
   "source": [
    "agonist_series = columnize(agonist_data)\n",
    "antagonist_series = columnize(antagonist_data)\n",
    "averageAgonists = average_duplicates(agonist_series)\n",
    "averageAntagonists = average_duplicates(antagonist_series)"
   ]
  },
  {
   "cell_type": "code",
   "execution_count": 5,
   "id": "5ca1fb52",
   "metadata": {},
   "outputs": [],
   "source": [
    "#Create new DF for concatenating the Agonist, Antagonist signals, and the Antibody Plate Map\n",
    "OutputSheet = pd.concat([averageAgonists, averageAntagonists, ab_sheet], axis = 1)\n",
    "OutputSheet.index += 1\n",
    "OutputSheet.rename(inplace = True, columns = {0: \"Agonist Mode\", 1: \"Antagonist Mode\"})\n",
    "OutputSheetCleaned = OutputSheet[[\"Agonist Mode\", \"Antagonist Mode\", \"DNA\", \"Protein Concentration\"]]\n",
    "OutputSheetCleaned.to_excel(functional_assay_type + \" Functional Assay Agonist and Antagonist Mode Analysis.xlsx\", sheet_name = 'Analyzed Data')\n",
    "AgonistSort = OutputSheetCleaned.sort_values(by=\"Agonist Mode\", ascending = False)"
   ]
  },
  {
   "cell_type": "code",
   "execution_count": null,
   "id": "5806ec23",
   "metadata": {},
   "outputs": [],
   "source": [
    "# #Sort DF by highest MFI ratio (top hits)\n",
    "# AllLeadsSorted = MFIRatio_Antibody_cleaned.sort_values(by=\"MFI Ratio\", ascending = False)\n",
    "# Top10 = MFIRatio_Antibody_cleaned.nlargest(10, \"MFI Ratio\")\n",
    "# #Top10 = Top10.append(MFIRatio_Antibody_cleaned.loc[MFIRatio_Antibody_cleaned[\"DNA\"] == \"SC-175-017\"])\n",
    "# fig, ax = plt.subplots()\n",
    "# ax.scatter(x = AllLeadsSorted[\"Protein Concentration (ug/uL)\"], y=AllLeadsSorted[\"MFI Ratio\"], alpha = .2, color = \"blue\")\n",
    "# ax.scatter(x = Top10[\"Protein Concentration (ug/uL)\"], y = Top10[\"MFI Ratio\"], alpha = .8, color = \"blue\", label = \"Top Hits\")\n",
    "# ax.set_title(\"CD40 Primary Screen\")\n",
    "# ax.set_xlabel(\"Concentration (mg/ml)\")\n",
    "# ax.set_ylabel(\"MFI Ratio \\n Transfected/Untransfected\")\n",
    "# ax.legend()\n",
    "\n",
    "# texts = []\n",
    "# for row in Top10.itertuples(index = False):\n",
    "#     ab, conc, MFI = row[4], row[5], row[3]\n",
    "#     ax.annotate(row[4], xy = (conc, MFI), textcoords = \"offset points\", xytext = (8, -2), ha ='left')\n",
    "#     #texts.append(plt.text(ab, conc, MFI))"
   ]
  },
  {
   "cell_type": "code",
   "execution_count": null,
   "id": "3c8625fb",
   "metadata": {},
   "outputs": [],
   "source": []
  }
 ],
 "metadata": {
  "kernelspec": {
   "display_name": "Python 3 (ipykernel)",
   "language": "python",
   "name": "python3"
  },
  "language_info": {
   "codemirror_mode": {
    "name": "ipython",
    "version": 3
   },
   "file_extension": ".py",
   "mimetype": "text/x-python",
   "name": "python",
   "nbconvert_exporter": "python",
   "pygments_lexer": "ipython3",
   "version": "3.10.5"
  }
 },
 "nbformat": 4,
 "nbformat_minor": 5
}
