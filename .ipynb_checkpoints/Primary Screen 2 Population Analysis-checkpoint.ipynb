{
 "cells": [
  {
   "cell_type": "code",
   "execution_count": null,
   "id": "f00ff2da",
   "metadata": {},
   "outputs": [],
   "source": [
    "import pandas as pd, ipywidgets as widgets, numpy as np, matplotlib.pyplot as plt, io\n",
    "from adjustText import adjust_text\n",
    "raw_uploader, eln_uploader = widgets.FileUpload(multiple = False), widgets.FileUpload(multiple = False)\n",
    "display(\"Upload iQue3 Data (csv)\")\n",
    "display(raw_uploader)\n",
    "display(\"Upload ELN w/ Antibodies Sheet (xlsx)\")\n",
    "display(eln_uploader)"
   ]
  },
  {
   "cell_type": "code",
   "execution_count": null,
   "id": "51b74700",
   "metadata": {},
   "outputs": [],
   "source": [
    "iquename, elnname = list(raw_uploader.value.keys())[0], list(eln_uploader.value.keys())[0]\n",
    "iquedata = pd.read_csv(io.BytesIO(raw_uploader.value[iquename]['content']))\n",
    "eln = pd.read_excel(io.BytesIO(eln_uploader.value[elnname]['content']))\n",
    "ab_sheet = pd.read_excel(io.BytesIO(eln_uploader.value[elnname]['content']), sheet_name = \"Antibody Plate Map\")\n",
    "iquedata"
   ]
  },
  {
   "cell_type": "code",
   "execution_count": null,
   "id": "99427c3f",
   "metadata": {},
   "outputs": [],
   "source": [
    "data_cleaned = iquedata[[\"Plate\", \"Well ID\", \"Well Type\", \"Median RL1-H of singlets\"]]\n",
    "data_cleaned"
   ]
  },
  {
   "cell_type": "code",
   "execution_count": null,
   "id": "6e3871f8",
   "metadata": {},
   "outputs": [],
   "source": [
    "#Return data frame with only samples of the well type specified\n",
    "def clean_for_well_type(well_type_string):\n",
    "    return data_cleaned[data_cleaned[\"Well Type\"] == well_type_string]\n",
    "\n",
    "#Average function that takes a string indicating the well type of interest (marked in iQue3 software, or manually changed\n",
    "#Separates n=1 and n=2 replicates from 384 well format, resets indeces, and averages\n",
    "#Returns a series with the averaged MFI ratios, removing the replicate wells\n",
    "def average_MFI(well_type_string):\n",
    "    selected_wells = clean_for_well_type(well_type_string)\n",
    "    MFIs = selected_wells[\"Median RL1-H of singlets\"]\n",
    "    firsts = MFIs.iloc[::2]\n",
    "    seconds = MFIs.iloc[1::2]\n",
    "    firsts.reset_index(inplace = True, drop = True)\n",
    "    seconds.reset_index(inplace = True, drop = True)\n",
    "    average = firsts + seconds\n",
    "    average = average/2\n",
    "    return average\n",
    "\n",
    "#Calculates the MFI ratio given a positive and negative series, \n",
    "#and appends the MFI ratio to the original data frame, excluding the negative population\n",
    "#positive_series: the series of the positive values\n",
    "#negative_series: the series of the negative (untransfected) values\n",
    "#positive_string: the string that marks the positive samples in the Well Type column from iQue3 csv\n",
    "def calculate_MFI_Ratio(positive_series, negative_series, positive_string):\n",
    "    MFI_ratio = positive_series/negative_series\n",
    "    original_positive = clean_for_well_type(positive_string)\n",
    "    original_positive = original_positive[::2]\n",
    "    original_positive.reset_index(inplace = True, drop = True)\n",
    "    original_positive[\"MFI Ratio\"] = MFI_ratio\n",
    "    MFIs_Antibody = pd.concat([original_positive, ab_sheet], axis = 1)\n",
    "    MFIs_Antibody.index += 1\n",
    "    return MFIs_Antibody[[\"Plate\", \"Well ID\", \"Well Type\", \"MFI Ratio\", \"DNA\", \"Protein Concentration\"]] "
   ]
  },
  {
   "cell_type": "code",
   "execution_count": null,
   "id": "4531a705",
   "metadata": {},
   "outputs": [],
   "source": [
    "pos_string = \"LGR5\"\n",
    "averagePositive = average_MFI(pos_string)\n",
    "averageNegative = average_MFI(\"Negative\")"
   ]
  },
  {
   "cell_type": "code",
   "execution_count": null,
   "id": "5ca1fb52",
   "metadata": {},
   "outputs": [],
   "source": [
    "#Create new DF for MFI ratios(don't modify originals)\n",
    "MFI_Ratios_Antibody = calculate_MFI_Ratio(averagePositive, averageNegative, pos_string)\n",
    "MFI_Ratios_Antibody\n",
    "MFI_Ratios_Antibody.to_excel(pos_string + \"Well_ID_MFI_Ratio.xlsx\", sheet_name='Analyzed Data')\n",
    "AllLeadsSorted = MFI_Ratios_Antibody.sort_values(by=\"MFI Ratio\", ascending = False)\n",
    "AllLeadsSorted"
   ]
  },
  {
   "cell_type": "code",
   "execution_count": null,
   "id": "5806ec23",
   "metadata": {},
   "outputs": [],
   "source": [
    "# #Sort DF by highest MFI ratio (top hits)\n",
    "# AllLeadsSorted = MFIRatio_Antibody_cleaned.sort_values(by=\"MFI Ratio\", ascending = False)\n",
    "# Top10 = MFIRatio_Antibody_cleaned.nlargest(10, \"MFI Ratio\")\n",
    "# #Top10 = Top10.append(MFIRatio_Antibody_cleaned.loc[MFIRatio_Antibody_cleaned[\"DNA\"] == \"SC-175-017\"])\n",
    "# fig, ax = plt.subplots()\n",
    "# ax.scatter(x = AllLeadsSorted[\"Protein Concentration (ug/uL)\"], y=AllLeadsSorted[\"MFI Ratio\"], alpha = .2, color = \"blue\")\n",
    "# ax.scatter(x = Top10[\"Protein Concentration (ug/uL)\"], y = Top10[\"MFI Ratio\"], alpha = .8, color = \"blue\", label = \"Top Hits\")\n",
    "# ax.set_title(\"CD40 Primary Screen\")\n",
    "# ax.set_xlabel(\"Concentration (mg/ml)\")\n",
    "# ax.set_ylabel(\"MFI Ratio \\n Transfected/Untransfected\")\n",
    "# ax.legend()\n",
    "\n",
    "# texts = []\n",
    "# for row in Top10.itertuples(index = False):\n",
    "#     ab, conc, MFI = row[4], row[5], row[3]\n",
    "#     ax.annotate(row[4], xy = (conc, MFI), textcoords = \"offset points\", xytext = (8, -2), ha ='left')\n",
    "#     #texts.append(plt.text(ab, conc, MFI))"
   ]
  },
  {
   "cell_type": "code",
   "execution_count": null,
   "id": "3c8625fb",
   "metadata": {},
   "outputs": [],
   "source": []
  }
 ],
 "metadata": {
  "kernelspec": {
   "display_name": "Python 3 (ipykernel)",
   "language": "python",
   "name": "python3"
  },
  "language_info": {
   "codemirror_mode": {
    "name": "ipython",
    "version": 3
   },
   "file_extension": ".py",
   "mimetype": "text/x-python",
   "name": "python",
   "nbconvert_exporter": "python",
   "pygments_lexer": "ipython3",
   "version": "3.10.5"
  }
 },
 "nbformat": 4,
 "nbformat_minor": 5
}
